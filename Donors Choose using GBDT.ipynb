{
  "nbformat": 4,
  "nbformat_minor": 0,
  "metadata": {
    "colab": {
      "name": " Assignment_GBDT_Instructions.ipynb",
      "provenance": [],
      "collapsed_sections": []
    },
    "language_info": {
      "codemirror_mode": {
        "name": "ipython",
        "version": 3
      },
      "file_extension": ".py",
      "mimetype": "text/x-python",
      "name": "python",
      "nbconvert_exporter": "python",
      "pygments_lexer": "ipython3",
      "version": "3.6.8"
    },
    "kernelspec": {
      "display_name": "Python 3",
      "language": "python",
      "name": "python3"
    }
  },
  "cells": [
    {
      "cell_type": "markdown",
      "metadata": {
        "id": "8wqapAXjsc24"
      },
      "source": [
        "# Assignment 9: GBDT"
      ]
    },
    {
      "cell_type": "markdown",
      "metadata": {
        "id": "8u5NhbnEsc2-"
      },
      "source": [
        "#### Response Coding: Example"
      ]
    },
    {
      "cell_type": "markdown",
      "metadata": {
        "id": "HIFWmwHKsc3A"
      },
      "source": [
        "<img src='http://i.imgur.com/TufZptV.jpg' width=700px>\n",
        "\n",
        "> The response tabel is built only on train dataset.\n",
        "> For a category which is not there in train data and present in test data, we will encode them with default values\n",
        "Ex: in our test data if have State: D then we encode it as [0.5, 0.05]"
      ]
    },
    {
      "cell_type": "markdown",
      "metadata": {
        "id": "3KwfGufDsc3D"
      },
      "source": [
        "<ol>\n",
        "    <li><strong>Apply GBDT on these feature sets</strong>\n",
        "        <ul>\n",
        "            <li><font color='red'>Set 1</font>: categorical(instead of one hot encoding, try <a href='https://www.appliedaicourse.com/course/applied-ai-course-online/lessons/handling-categorical-and-numerical-features/'>response coding</a>: use probability values), numerical features + project_title(TFIDF)+  preprocessed_eassay (TFIDF)+sentiment Score of eassay(check the bellow example, include all 4 values as 4 features)</li>\n",
        "            <li><font color='red'>Set 2</font>: categorical(instead of one hot encoding, try <a href='https://www.appliedaicourse.com/course/applied-ai-course-online/lessons/handling-categorical-and-numerical-features/'>response coding</a>: use probability values), numerical features + project_title(TFIDF W2V)+  preprocessed_eassay (TFIDF W2V)</li>        </ul>\n",
        "    </li>\n",
        "    <li><strong>The hyper paramter tuning (Consider any two hyper parameters)</strong>\n",
        "        <ul>\n",
        "    <li>Find the best hyper parameter which will give the maximum <a href='https://www.appliedaicourse.com/course/applied-ai-course-online/lessons/receiver-operating-characteristic-curve-roc-curve-and-auc-1/'>AUC</a> value</li>\n",
        "    <li>find the best hyper paramter using k-fold cross validation/simple cross validation data</li>\n",
        "    <li>use gridsearch cv or randomsearch cv or you can write your own for loops to do this task</li>\n",
        "        </ul>\n",
        "    </li>\n",
        "    <li>\n",
        "    <strong>Representation of results</strong>\n",
        "        <ul>\n",
        "    <li>You need to plot the performance of model both on train data and cross validation data for each hyper parameter, like shown in the figure\n",
        "    <img src='https://i.imgur.com/Gp2DQmh.jpg' width=500px> with X-axis as <strong>n_estimators</strong>, Y-axis as <strong>max_depth</strong>, and Z-axis as <strong>AUC Score</strong> , we have given the notebook which explains how to plot this 3d plot, you can find it in the same drive <i>3d_scatter_plot.ipynb</i></li>\n",
        "            <p style=\"text-align:center;font-size:30px;color:red;\"><strong>or</strong></p> <br>\n",
        "    <li>You need to plot the performance of model both on train data and cross validation data for each hyper parameter, like shown in the figure\n",
        "    <img src='https://i.imgur.com/fgN9aUP.jpg' width=300px> <a href='https://seaborn.pydata.org/generated/seaborn.heatmap.html'>seaborn heat maps</a> with rows as <strong>n_estimators</strong>, columns as <strong>max_depth</strong>, and values inside the cell representing <strong>AUC Score</strong> </li>\n",
        "    <li>You choose either of the plotting techniques out of 3d plot or heat map</li>\n",
        "    <li>Once after you found the best hyper parameter, you need to train your model with it, and find the AUC on test data and plot the ROC curve on both train and test.\n",
        "    <img src='https://i.imgur.com/wMQDTFe.jpg' width=300px></li>\n",
        "    <li>Along with plotting ROC curve, you need to print the <a href='https://www.appliedaicourse.com/course/applied-ai-course-online/lessons/confusion-matrix-tpr-fpr-fnr-tnr-1/'>confusion matrix</a> with predicted and original labels of test data points\n",
        "    <img src='https://i.imgur.com/IdN5Ctv.png' width=300px></li>\n",
        "            </ul>\n",
        "    <br>\n",
        "    <li>You need to summarize the results at the end of the notebook, summarize it in the table format\n",
        "        <img src='http://i.imgur.com/YVpIGGE.jpg' width=400px>\n",
        "    </li>\n",
        "</ol>"
      ]
    },
    {
      "cell_type": "code",
      "metadata": {
        "id": "iffa2_WGsc3H",
        "colab": {
          "base_uri": "https://localhost:8080/"
        },
        "outputId": "e7a932ac-30b7-4b90-e64f-047a1e4f2c5e"
      },
      "source": [
        "import nltk\n",
        "from nltk.sentiment.vader import SentimentIntensityAnalyzer\n",
        "\n",
        "nltk.download('vader_lexicon')\n",
        "\n",
        "sid = SentimentIntensityAnalyzer()\n",
        "\n",
        "for_sentiment = 'a person is a person no matter how small dr seuss i teach the smallest students with the biggest enthusiasm \\\n",
        "for learning my students learn in many different ways using all of our senses and multiple intelligences i use a wide range\\\n",
        "of techniques to help all my students succeed students in my class come from a variety of different backgrounds which makes\\\n",
        "for wonderful sharing of experiences and cultures including native americans our school is a caring community of successful \\\n",
        "learners which can be seen through collaborative student project based learning in and out of the classroom kindergarteners \\\n",
        "in my class love to work with hands on materials and have many different opportunities to practice a skill before it is\\\n",
        "mastered having the social skills to work cooperatively with friends is a crucial aspect of the kindergarten curriculum\\\n",
        "montana is the perfect place to learn about agriculture and nutrition my students love to role play in our pretend kitchen\\\n",
        "in the early childhood classroom i have had several kids ask me can we try cooking with real food i will take their idea \\\n",
        "and create common core cooking lessons where we learn important math and writing concepts while cooking delicious healthy \\\n",
        "food for snack time my students will have a grounded appreciation for the work that went into making the food and knowledge \\\n",
        "of where the ingredients came from as well as how it is healthy for their bodies this project would expand our learning of \\\n",
        "nutrition and agricultural cooking recipes by having us peel our own apples to make homemade applesauce make our own bread \\\n",
        "and mix up healthy plants from our classroom garden in the spring we will also create our own cookbooks to be printed and \\\n",
        "shared with families students will gain math and literature skills as well as a life long enjoyment for healthy cooking \\\n",
        "nannan'\n",
        "ss = sid.polarity_scores(for_sentiment)\n",
        "\n",
        "for k in ss:\n",
        "    print('{0}: {1}, '.format(k, ss[k]), end='')\n",
        "\n",
        "# we can use these 4 things as features/attributes (neg, neu, pos, compound)\n",
        "# neg: 0.0, neu: 0.753, pos: 0.247, compound: 0.93"
      ],
      "execution_count": 2,
      "outputs": [
        {
          "output_type": "stream",
          "text": [
            "[nltk_data] Downloading package vader_lexicon to /root/nltk_data...\n",
            "neg: 0.01, neu: 0.745, pos: 0.245, compound: 0.9975, "
          ],
          "name": "stdout"
        },
        {
          "output_type": "stream",
          "text": [
            "/usr/local/lib/python3.7/dist-packages/nltk/twitter/__init__.py:20: UserWarning: The twython library has not been installed. Some functionality from the twitter package will not be available.\n",
            "  warnings.warn(\"The twython library has not been installed. \"\n"
          ],
          "name": "stderr"
        }
      ]
    },
    {
      "cell_type": "markdown",
      "metadata": {
        "id": "BOyTl7oKsc3W"
      },
      "source": [
        "<h1>1. GBDT (xgboost/lightgbm) </h1>"
      ]
    },
    {
      "cell_type": "code",
      "metadata": {
        "id": "FCr1vb3qkYlY",
        "colab": {
          "base_uri": "https://localhost:8080/"
        },
        "outputId": "70e19063-7869-4e61-d67c-a790b675393e"
      },
      "source": [
        "from google.colab import drive\n",
        "drive.mount('/content/drive')"
      ],
      "execution_count": 3,
      "outputs": [
        {
          "output_type": "stream",
          "text": [
            "Mounted at /content/drive\n"
          ],
          "name": "stdout"
        }
      ]
    },
    {
      "cell_type": "code",
      "metadata": {
        "id": "LODhm1D9lF3n"
      },
      "source": [
        "%matplotlib inline\n",
        "import warnings\n",
        "warnings.filterwarnings(\"ignore\")\n",
        "\n",
        "import pandas as pd\n",
        "import numpy as np\n",
        "import nltk\n",
        "import matplotlib.pyplot as plt\n",
        "import seaborn as sns\n",
        "from sklearn.feature_extraction.text import TfidfVectorizer\n",
        "from sklearn.feature_extraction.text import CountVectorizer\n",
        "from sklearn.metrics import confusion_matrix\n",
        "from sklearn import metrics\n",
        "from sklearn.metrics import roc_curve, auc\n",
        "\n",
        "import re\n",
        "# Tutorial about Python regular expressions: https://pymotw.com/2/re/\n",
        "from sklearn.naive_bayes import MultinomialNB\n",
        "import pickle\n",
        "from tqdm import tqdm\n",
        "import os\n"
      ],
      "execution_count": 6,
      "outputs": []
    },
    {
      "cell_type": "markdown",
      "metadata": {
        "id": "VWge-b2Zsc3Z"
      },
      "source": [
        "## 1.1 Loading Data"
      ]
    },
    {
      "cell_type": "code",
      "metadata": {
        "id": "WDZFu6-usc3d"
      },
      "source": [
        "data = pd.read_csv('/content/drive/MyDrive/preprocessed_data.csv',nrows=55000)"
      ],
      "execution_count": 5,
      "outputs": []
    },
    {
      "cell_type": "code",
      "metadata": {
        "id": "aCN8UMuOSVqZ"
      },
      "source": [
        "data1=pd.read_csv(\"/content/drive/MyDrive/project_data.csv\",nrows=55000)"
      ],
      "execution_count": 7,
      "outputs": []
    },
    {
      "cell_type": "code",
      "metadata": {
        "id": "K7oTd_7nRhQY"
      },
      "source": [
        "data[\"Title\"]=data1[\"project_title\"]"
      ],
      "execution_count": 8,
      "outputs": []
    },
    {
      "cell_type": "code",
      "metadata": {
        "id": "xzjRLl9slakW"
      },
      "source": [
        "data=data[[\"school_state\",\"teacher_prefix\",\"essay\",\"project_grade_category\",\"clean_categories\",\"clean_subcategories\",\"price\",\"teacher_number_of_previously_posted_projects\",\"project_is_approved\",\"Title\"]]"
      ],
      "execution_count": 9,
      "outputs": []
    },
    {
      "cell_type": "markdown",
      "metadata": {
        "id": "iiAKtV8QLbdR"
      },
      "source": [
        "Removing class imbalance"
      ]
    },
    {
      "cell_type": "code",
      "metadata": {
        "id": "YAzP8RIOMPpP"
      },
      "source": [
        "from sklearn.utils import resample"
      ],
      "execution_count": 10,
      "outputs": []
    },
    {
      "cell_type": "code",
      "metadata": {
        "id": "J97OCKWZLfQD"
      },
      "source": [
        "df_majority=data[data.project_is_approved==1]\n",
        "df_minority=data[data.project_is_approved==0]"
      ],
      "execution_count": 11,
      "outputs": []
    },
    {
      "cell_type": "code",
      "metadata": {
        "id": "9LKlpgCyL_PN"
      },
      "source": [
        "df_minority_upsampled = resample(df_minority, replace=True,n_samples=len(df_majority))"
      ],
      "execution_count": 12,
      "outputs": []
    },
    {
      "cell_type": "code",
      "metadata": {
        "id": "WXqC4cueMSt8"
      },
      "source": [
        "data = pd.concat([df_majority, df_minority_upsampled])"
      ],
      "execution_count": 13,
      "outputs": []
    },
    {
      "cell_type": "code",
      "metadata": {
        "id": "E0dhdgC8lcQV",
        "colab": {
          "base_uri": "https://localhost:8080/",
          "height": 202
        },
        "outputId": "df3c6021-04da-4948-c932-08ab88dd15c0"
      },
      "source": [
        "y = data['project_is_approved'].values\n",
        "X = data.drop(['project_is_approved'], axis=1)\n",
        "X.head(1)"
      ],
      "execution_count": 14,
      "outputs": [
        {
          "output_type": "execute_result",
          "data": {
            "text/html": [
              "<div>\n",
              "<style scoped>\n",
              "    .dataframe tbody tr th:only-of-type {\n",
              "        vertical-align: middle;\n",
              "    }\n",
              "\n",
              "    .dataframe tbody tr th {\n",
              "        vertical-align: top;\n",
              "    }\n",
              "\n",
              "    .dataframe thead th {\n",
              "        text-align: right;\n",
              "    }\n",
              "</style>\n",
              "<table border=\"1\" class=\"dataframe\">\n",
              "  <thead>\n",
              "    <tr style=\"text-align: right;\">\n",
              "      <th></th>\n",
              "      <th>school_state</th>\n",
              "      <th>teacher_prefix</th>\n",
              "      <th>essay</th>\n",
              "      <th>project_grade_category</th>\n",
              "      <th>clean_categories</th>\n",
              "      <th>clean_subcategories</th>\n",
              "      <th>price</th>\n",
              "      <th>teacher_number_of_previously_posted_projects</th>\n",
              "      <th>Title</th>\n",
              "    </tr>\n",
              "  </thead>\n",
              "  <tbody>\n",
              "    <tr>\n",
              "      <th>0</th>\n",
              "      <td>ca</td>\n",
              "      <td>mrs</td>\n",
              "      <td>i fortunate enough use fairy tale stem kits cl...</td>\n",
              "      <td>grades_prek_2</td>\n",
              "      <td>math_science</td>\n",
              "      <td>appliedsciences health_lifescience</td>\n",
              "      <td>725.05</td>\n",
              "      <td>53</td>\n",
              "      <td>Educational Support for English Learners at Home</td>\n",
              "    </tr>\n",
              "  </tbody>\n",
              "</table>\n",
              "</div>"
            ],
            "text/plain": [
              "  school_state  ...                                             Title\n",
              "0           ca  ...  Educational Support for English Learners at Home\n",
              "\n",
              "[1 rows x 9 columns]"
            ]
          },
          "metadata": {
            "tags": []
          },
          "execution_count": 14
        }
      ]
    },
    {
      "cell_type": "code",
      "metadata": {
        "id": "0_noB-pWlkfa"
      },
      "source": [
        "#Sentiment Scores\n",
        "def sentiment_score(X,feature):\n",
        "  neg=[]\n",
        "  neu=[]\n",
        "  pos=[]\n",
        "  compound=[]\n",
        "  sid = SentimentIntensityAnalyzer()\n",
        "  for i in range(len(X)):\n",
        "    for_sentiment = X[feature].iloc[i]\n",
        "    ss = sid.polarity_scores(for_sentiment)\n",
        "    neg.append(ss['neg'])\n",
        "    neu.append(ss['neu'])\n",
        "    pos.append(ss['pos'])\n",
        "    compound.append(ss['compound'])\n",
        "  return np.asarray(neg).reshape(-1,1),np.asarray(neu).reshape(-1,1),np.asarray(pos).reshape(-1,1),np.asarray(compound).reshape(-1,1)\n",
        "\n",
        "\n",
        "negative,neutral,postive,compound = sentiment_score(X,\"essay\")\n",
        "X[\"sen_neg\"]=negative\n",
        "X[\"sen_pos\"]=postive\n",
        "X[\"sen_neu\"]=neutral\n",
        "X[\"sen_comp\"]=compound\n"
      ],
      "execution_count": 15,
      "outputs": []
    },
    {
      "cell_type": "markdown",
      "metadata": {
        "id": "6lAMFKFcsc3j"
      },
      "source": [
        "<h2>1.2 Splitting data into Train and cross validation(or test): Stratified Sampling</h2>"
      ]
    },
    {
      "cell_type": "code",
      "metadata": {
        "id": "ODMijuuNsc3l"
      },
      "source": [
        "from sklearn.model_selection import train_test_split\n",
        "X_train, X_test, y_train, y_test = train_test_split(X, y, test_size=0.4, stratify=y)"
      ],
      "execution_count": 16,
      "outputs": []
    },
    {
      "cell_type": "markdown",
      "metadata": {
        "id": "7IkLWBb4mg96"
      },
      "source": [
        "Sentiment Scores splitting"
      ]
    },
    {
      "cell_type": "code",
      "metadata": {
        "id": "H3BlKVhMmiT7"
      },
      "source": [
        "#Train part\n",
        "ss_train_neg=np.array(X_train[\"sen_neg\"]).reshape(-1,1)\n",
        "ss_train_pos=np.array(X_train[\"sen_pos\"]).reshape(-1,1)\n",
        "ss_train_neu=np.array(X_train[\"sen_neu\"]).reshape(-1,1)\n",
        "ss_train_comp=np.array(X_train[\"sen_comp\"]).reshape(-1,1)\n",
        "#Test part\n",
        "ss_test_neg=np.array(X_test[\"sen_neg\"]).reshape(-1,1)\n",
        "ss_test_pos=np.array(X_test[\"sen_pos\"]).reshape(-1,1)\n",
        "ss_test_neu=np.array(X_test[\"sen_neu\"]).reshape(-1,1)\n",
        "ss_test_comp=np.array(X_test[\"sen_comp\"]).reshape(-1,1)"
      ],
      "execution_count": 17,
      "outputs": []
    },
    {
      "cell_type": "code",
      "metadata": {
        "id": "19HLQGhMpap9"
      },
      "source": [
        "from prettytable import PrettyTable"
      ],
      "execution_count": 18,
      "outputs": []
    },
    {
      "cell_type": "markdown",
      "metadata": {
        "id": "vsALgl5Asc3u"
      },
      "source": [
        "<h2>1.3 Make Data Model Ready: encoding Categorical Features</h2>"
      ]
    },
    {
      "cell_type": "markdown",
      "metadata": {
        "id": "VAJ_dtJqnfre"
      },
      "source": [
        "Response Coding"
      ]
    },
    {
      "cell_type": "code",
      "metadata": {
        "id": "1A_85jbWsc3v"
      },
      "source": [
        "def response_coding(xtrain, ytrain, feature):\n",
        "          \n",
        "    dictionary = dict()\n",
        "    x = PrettyTable()\n",
        "    x = PrettyTable([feature, 'class 1', 'class 0'])\n",
        "\n",
        "    unique_cat_labels = xtrain[feature].unique()\n",
        "\n",
        "    for i in tqdm(range(len(unique_cat_labels))):\n",
        "        total_count = xtrain.loc[:,feature][(xtrain[feature] == unique_cat_labels[i])].count()\n",
        "        p_0 = xtrain.loc[:, feature][((xtrain[feature] == unique_cat_labels[i]) & (ytrain==0))].count()\n",
        "        p_1 = xtrain.loc[:, feature][((xtrain[feature] == unique_cat_labels[i]) & (ytrain==1))].count()\n",
        "\n",
        "        dictionary[unique_cat_labels[i]] = [p_1/total_count, p_0/total_count]\n",
        "\n",
        "        row = []\n",
        "        row.append(unique_cat_labels[i])\n",
        "        row.append(p_1/total_count)\n",
        "        row.append(p_0/total_count)\n",
        "        x.add_row(row)\n",
        "    print()\n",
        "    print(x)\n",
        "    return dictionary"
      ],
      "execution_count": 19,
      "outputs": []
    },
    {
      "cell_type": "markdown",
      "metadata": {
        "id": "-XMaxzRsoSnW"
      },
      "source": [
        "**Encoding** categorical features: School State"
      ]
    },
    {
      "cell_type": "code",
      "metadata": {
        "id": "8iiOfDIeoAxA",
        "colab": {
          "base_uri": "https://localhost:8080/"
        },
        "outputId": "f902b3e3-d47a-4ee9-f901-5849f4817def"
      },
      "source": [
        "School_state_Response_coding=response_coding(X_train, y_train,\"school_state\")"
      ],
      "execution_count": 20,
      "outputs": [
        {
          "output_type": "stream",
          "text": [
            "100%|██████████| 51/51 [00:00<00:00, 87.46it/s]"
          ],
          "name": "stderr"
        },
        {
          "output_type": "stream",
          "text": [
            "\n",
            "+--------------+---------------------+---------------------+\n",
            "| school_state |       class 1       |       class 0       |\n",
            "+--------------+---------------------+---------------------+\n",
            "|      ga      | 0.47332686711930166 |  0.5266731328806984 |\n",
            "|      tx      |  0.429733393583371  |  0.570266606416629  |\n",
            "|      ca      |  0.5179910044977512 | 0.48200899550224885 |\n",
            "|      wa      |  0.5836501901140685 | 0.41634980988593157 |\n",
            "|      mi      |  0.5191682910981157 |  0.4808317089018843 |\n",
            "|      sc      |  0.528695652173913  | 0.47130434782608693 |\n",
            "|      ia      |  0.5040214477211796 |  0.4959785522788204 |\n",
            "|      fl      |  0.4751913807768642 |  0.5248086192231358 |\n",
            "|      la      | 0.46095890410958906 |  0.5390410958904109 |\n",
            "|      tn      |  0.5546605293440736 | 0.44533947065592633 |\n",
            "|      dc      |  0.4623287671232877 |  0.5376712328767124 |\n",
            "|      ma      |  0.4965217391304348 |  0.5034782608695653 |\n",
            "|      mo      |  0.5430680885972108 | 0.45693191140278916 |\n",
            "|      pa      |  0.4968030690537084 |  0.5031969309462916 |\n",
            "|      ut      | 0.48778195488721804 |  0.5122180451127819 |\n",
            "|      wi      | 0.48909657320872274 |  0.5109034267912772 |\n",
            "|      il      |   0.52894606630381  | 0.47105393369619003 |\n",
            "|      ny      |  0.5361084831283507 |  0.4638915168716493 |\n",
            "|      me      |  0.5066079295154186 |  0.4933920704845815 |\n",
            "|      ct      |  0.5414908579465542 | 0.45850914205344584 |\n",
            "|      ne      | 0.49696969696969695 |  0.503030303030303  |\n",
            "|      ok      |  0.4756380510440835 |  0.5243619489559165 |\n",
            "|      or      |         0.5         |         0.5         |\n",
            "|      in      |         0.5         |         0.5         |\n",
            "|      id      |         0.48        |         0.52        |\n",
            "|      az      |  0.4741454864154251 |  0.5258545135845749 |\n",
            "|      nv      |  0.4817629179331307 |  0.5182370820668692 |\n",
            "|      hi      |  0.5118483412322274 |  0.4881516587677725 |\n",
            "|      md      |  0.4710947109471095 |  0.5289052890528906 |\n",
            "|      nc      | 0.49243892981775883 |  0.5075610701822412 |\n",
            "|      al      |  0.5089058524173028 |  0.4910941475826972 |\n",
            "|      sd      |  0.496551724137931  |  0.503448275862069  |\n",
            "|      wv      |  0.4418604651162791 |  0.5581395348837209 |\n",
            "|      nj      |  0.4708994708994709 |  0.5291005291005291 |\n",
            "|      oh      |  0.5432203389830509 | 0.45677966101694917 |\n",
            "|      mn      |  0.5314285714285715 |  0.4685714285714286 |\n",
            "|      ky      |  0.5533661740558292 |  0.4466338259441708 |\n",
            "|      va      |  0.5094905094905094 |  0.4905094905094905 |\n",
            "|      ks      |  0.5155709342560554 |  0.4844290657439446 |\n",
            "|      co      |  0.4816753926701571 |  0.518324607329843  |\n",
            "|      nh      |        0.632        |        0.368        |\n",
            "|      de      |  0.5895953757225434 | 0.41040462427745666 |\n",
            "|      ar      |  0.4934210526315789 |  0.506578947368421  |\n",
            "|      ak      |  0.4057971014492754 |  0.5942028985507246 |\n",
            "|      ms      | 0.47295423023578365 |  0.5270457697642164 |\n",
            "|      ri      |  0.5289256198347108 | 0.47107438016528924 |\n",
            "|      nm      |  0.444015444015444  |  0.555984555984556  |\n",
            "|      mt      | 0.47368421052631576 |  0.5263157894736842 |\n",
            "|      nd      |  0.8181818181818182 | 0.18181818181818182 |\n",
            "|      wy      |  0.5909090909090909 |  0.4090909090909091 |\n",
            "|      vt      | 0.47058823529411764 |  0.5294117647058824 |\n",
            "+--------------+---------------------+---------------------+\n"
          ],
          "name": "stdout"
        },
        {
          "output_type": "stream",
          "text": [
            "\n"
          ],
          "name": "stderr"
        }
      ]
    },
    {
      "cell_type": "code",
      "metadata": {
        "id": "4RUY3ZrHrUR-"
      },
      "source": [
        "for i in range(len(X_train)):\n",
        "  X_train[\"School_State_class_0\"]=School_state_Response_coding[X_train[\"school_state\"].iloc[i]][0]\n",
        "  X_train[\"School_State_class_1\"]=School_state_Response_coding[X_train[\"school_state\"].iloc[i]][1]"
      ],
      "execution_count": 21,
      "outputs": []
    },
    {
      "cell_type": "code",
      "metadata": {
        "id": "HnT6pdxQ2HJV"
      },
      "source": [
        "for i in range(len(X_test)):\n",
        "  if X_test[\"school_state\"].iloc[i] not in list(School_state_Response_coding.keys()):\n",
        "    X_test[\"school_state_category_class_0\"]=0.5\n",
        "    X_test[\"school_state_category_class_1\"]=0.5\n",
        "  else:\n",
        "    X_test[\"School_State_class_0\"]=School_state_Response_coding[X_test[\"school_state\"].iloc[i]][0]\n",
        "    X_test[\"School_State_class_1\"]=School_state_Response_coding[X_test[\"school_state\"].iloc[i]][1]"
      ],
      "execution_count": 22,
      "outputs": []
    },
    {
      "cell_type": "code",
      "metadata": {
        "id": "Uy8Tg2pieDii"
      },
      "source": [
        "School_State_train_class_0=np.array(X_train[\"School_State_class_0\"]).reshape(-1,1)\n",
        "School_State_train_class_1=np.array(X_train[\"School_State_class_1\"]).reshape(-1,1)\n",
        "School_State_test_class_0=np.array(X_test[\"School_State_class_0\"]).reshape(-1,1)\n",
        "School_State_test_class_1=np.array(X_test[\"School_State_class_1\"]).reshape(-1,1)"
      ],
      "execution_count": 23,
      "outputs": []
    },
    {
      "cell_type": "markdown",
      "metadata": {
        "id": "U6dlgE-9CdX_"
      },
      "source": [
        "Encoding categorical features: teacher_prefix"
      ]
    },
    {
      "cell_type": "code",
      "metadata": {
        "id": "wOn5sq6BCinZ",
        "colab": {
          "base_uri": "https://localhost:8080/"
        },
        "outputId": "f4873064-8f22-437c-da13-08ce3669540f"
      },
      "source": [
        "School_state_Response_coding=response_coding(X_train, y_train,\"teacher_prefix\")"
      ],
      "execution_count": 24,
      "outputs": [
        {
          "output_type": "stream",
          "text": [
            "100%|██████████| 5/5 [00:00<00:00, 81.18it/s]"
          ],
          "name": "stderr"
        },
        {
          "output_type": "stream",
          "text": [
            "\n",
            "+----------------+---------------------+---------------------+\n",
            "| teacher_prefix |       class 1       |       class 0       |\n",
            "+----------------+---------------------+---------------------+\n",
            "|      mrs       |  0.5136754184780749 | 0.48632458152192515 |\n",
            "|       ms       | 0.49211484027496966 |  0.5078851597250303 |\n",
            "|       mr       | 0.47858651814864606 |  0.5214134818513539 |\n",
            "|    teacher     | 0.39403706688154716 |  0.6059629331184528 |\n",
            "|       dr       |         0.25        |         0.75        |\n",
            "+----------------+---------------------+---------------------+\n"
          ],
          "name": "stdout"
        },
        {
          "output_type": "stream",
          "text": [
            "\n"
          ],
          "name": "stderr"
        }
      ]
    },
    {
      "cell_type": "code",
      "metadata": {
        "id": "pxsKTsIeCvJE"
      },
      "source": [
        "for i in range(len(X_train)):\n",
        "  X_train[\"teacher_prefix_class_0\"]=School_state_Response_coding[X_train[\"teacher_prefix\"].iloc[i]][0]\n",
        "  X_train[\"teacher_prefix_class_1\"]=School_state_Response_coding[X_train[\"teacher_prefix\"].iloc[i]][1]"
      ],
      "execution_count": 25,
      "outputs": []
    },
    {
      "cell_type": "code",
      "metadata": {
        "id": "90LVrqavC4mf"
      },
      "source": [
        "for i in range(len(X_test)):\n",
        "  if X_test[\"teacher_prefix\"].iloc[i] not in list(School_state_Response_coding.keys()):\n",
        "    X_test[\"teacher_prefix_category_class_0\"]=0.5\n",
        "    X_test[\"teacher_prefix_category_class_1\"]=0.5\n",
        "  else:\n",
        "    X_test[\"teacher_prefix_class_0\"]=School_state_Response_coding[X_test[\"teacher_prefix\"].iloc[i]][0]\n",
        "    X_test[\"teacher_prefix_class_1\"]=School_state_Response_coding[X_test[\"teacher_prefix\"].iloc[i]][1]"
      ],
      "execution_count": 26,
      "outputs": []
    },
    {
      "cell_type": "code",
      "metadata": {
        "id": "SnJ5SCOzfcM2"
      },
      "source": [
        "teacher_prefix_train_class_0=np.array(X_train[\"teacher_prefix_class_0\"]).reshape(-1,1)\n",
        "teacher_prefix_train_class_1=np.array(X_train[\"teacher_prefix_class_1\"]).reshape(-1,1)\n",
        "teacher_prefix_test_class_0=np.array(X_test[\"teacher_prefix_class_0\"]).reshape(-1,1)\n",
        "teacher_prefix_test_class_1=np.array(X_test[\"teacher_prefix_class_1\"]).reshape(-1,1)"
      ],
      "execution_count": 27,
      "outputs": []
    },
    {
      "cell_type": "markdown",
      "metadata": {
        "id": "bGlFXEm8Do29"
      },
      "source": [
        "encoding categorical features: project_grade_category"
      ]
    },
    {
      "cell_type": "code",
      "metadata": {
        "id": "LwssOoTFDsVP",
        "colab": {
          "base_uri": "https://localhost:8080/"
        },
        "outputId": "40e1cc3f-778e-4142-c464-ef43cd07c4c6"
      },
      "source": [
        "School_state_Response_coding=response_coding(X_train, y_train,\"project_grade_category\")"
      ],
      "execution_count": 28,
      "outputs": [
        {
          "output_type": "stream",
          "text": [
            "100%|██████████| 4/4 [00:00<00:00, 74.54it/s]"
          ],
          "name": "stderr"
        },
        {
          "output_type": "stream",
          "text": [
            "\n",
            "+------------------------+--------------------+--------------------+\n",
            "| project_grade_category |      class 1       |      class 0       |\n",
            "+------------------------+--------------------+--------------------+\n",
            "|       grades_3_5       | 0.5096576885931967 | 0.4903423114068033 |\n",
            "|     grades_prek_2      | 0.500856051626498  | 0.4991439483735019 |\n",
            "|       grades_6_8       | 0.4813707451701932 | 0.5186292548298068 |\n",
            "|      grades_9_12       | 0.4928785607196402 | 0.5071214392803598 |\n",
            "+------------------------+--------------------+--------------------+\n"
          ],
          "name": "stdout"
        },
        {
          "output_type": "stream",
          "text": [
            "\n"
          ],
          "name": "stderr"
        }
      ]
    },
    {
      "cell_type": "code",
      "metadata": {
        "id": "0apFXEQMEIdd"
      },
      "source": [
        "for i in range(len(X_train)):\n",
        "  X_train[\"project_grade_category_class_0\"]=School_state_Response_coding[X_train[\"project_grade_category\"].iloc[i]][0]\n",
        "  X_train[\"project_grade_category_class_1\"]=School_state_Response_coding[X_train[\"project_grade_category\"].iloc[i]][1]"
      ],
      "execution_count": 29,
      "outputs": []
    },
    {
      "cell_type": "code",
      "metadata": {
        "id": "NAIdbApSEHFn"
      },
      "source": [
        "for i in range(len(X_test)):\n",
        "  if X_test[\"project_grade_category\"].iloc[i] not in list(School_state_Response_coding.keys()):\n",
        "     X_test[\"project_grade_category_class_0\"]=0.5\n",
        "     X_test[\"project_grade_category_class_1\"]=0.5\n",
        "  else:\n",
        "      X_test[\"project_grade_category_class_0\"]=School_state_Response_coding[X_test[\"project_grade_category\"].iloc[i]][0]\n",
        "      X_test[\"project_grade_category_class_1\"]=School_state_Response_coding[X_test[\"project_grade_category\"].iloc[i]][1]"
      ],
      "execution_count": 30,
      "outputs": []
    },
    {
      "cell_type": "code",
      "metadata": {
        "id": "FyineNH9frlc"
      },
      "source": [
        "project_grade_category_train_class_0=np.array(X_train[\"project_grade_category_class_0\"]).reshape(-1,1)\n",
        "project_grade_category_train_class_1=np.array(X_train[\"project_grade_category_class_1\"]).reshape(-1,1)\n",
        "project_grade_category_test_class_0=np.array(X_test[\"project_grade_category_class_0\"]).reshape(-1,1)\n",
        "project_grade_category_test_class_1=np.array(X_test[\"project_grade_category_class_1\"]).reshape(-1,1)"
      ],
      "execution_count": 31,
      "outputs": []
    },
    {
      "cell_type": "markdown",
      "metadata": {
        "id": "Bc_Cvv9OJ_Hm"
      },
      "source": [
        "encoding categorical features: Subject category"
      ]
    },
    {
      "cell_type": "code",
      "metadata": {
        "id": "TCeu0IWqKNkq",
        "colab": {
          "base_uri": "https://localhost:8080/"
        },
        "outputId": "c133144d-6110-474e-d2a0-165ba2b56640"
      },
      "source": [
        "School_state_Response_coding=response_coding(X_train, y_train,\"clean_categories\")"
      ],
      "execution_count": 32,
      "outputs": [
        {
          "output_type": "stream",
          "text": [
            "100%|██████████| 44/44 [00:00<00:00, 95.95it/s]"
          ],
          "name": "stderr"
        },
        {
          "output_type": "stream",
          "text": [
            "\n",
            "+-----------------------------------+---------------------+---------------------+\n",
            "|          clean_categories         |       class 1       |       class 0       |\n",
            "+-----------------------------------+---------------------+---------------------+\n",
            "|            specialneeds           |  0.4443368828654405 |  0.5556631171345595 |\n",
            "|     health_sports specialneeds    |  0.5329744279946165 |  0.4670255720053836 |\n",
            "|          appliedlearning          | 0.44875776397515527 |  0.5512422360248447 |\n",
            "|     specialneeds health_sports    |  0.4482758620689655 |  0.5517241379310345 |\n",
            "|         literacy_language         |  0.5327904736888188 |  0.4672095263111812 |\n",
            "|   literacy_language math_science  |  0.5213161659513591 |  0.4786838340486409 |\n",
            "|            math_science           |  0.4334964412811388 |  0.5665035587188612 |\n",
            "|     math_science health_sports    | 0.41216216216216217 |  0.5878378378378378 |\n",
            "|    math_science appliedlearning   | 0.46830985915492956 |  0.5316901408450704 |\n",
            "|    history_civics math_science    |  0.5196850393700787 | 0.48031496062992124 |\n",
            "|           health_sports           |  0.5393195761293921 |  0.4606804238706079 |\n",
            "|      math_science music_arts      |  0.5121951219512195 |  0.4878048780487805 |\n",
            "| appliedlearning literacy_language |  0.5413953488372093 |  0.4586046511627907 |\n",
            "|   math_science literacy_language  |  0.4948453608247423 |  0.5051546391752577 |\n",
            "|     health_sports math_science    | 0.48633879781420764 |  0.5136612021857924 |\n",
            "|    appliedlearning specialneeds   |  0.4191852825229961 |  0.580814717477004  |\n",
            "|   literacy_language specialneeds  |  0.5052283984589984 | 0.49477160154100164 |\n",
            "|   health_sports appliedlearning   |  0.4396551724137931 |  0.5603448275862069 |\n",
            "|  history_civics literacy_language |  0.6044303797468354 | 0.39556962025316456 |\n",
            "|           history_civics          | 0.48405466970387245 |  0.5159453302961275 |\n",
            "|  health_sports literacy_language  |  0.5228519195612431 | 0.47714808043875684 |\n",
            "|    appliedlearning math_science   | 0.43454545454545457 |  0.5654545454545454 |\n",
            "| literacy_language appliedlearning |  0.4981549815498155 |  0.5018450184501845 |\n",
            "|     math_science specialneeds     |  0.5017835909631391 |  0.4982164090368609 |\n",
            "|    math_science history_civics    |  0.5205479452054794 |  0.4794520547945205 |\n",
            "|             music_arts            |  0.5401182432432432 | 0.45988175675675674 |\n",
            "|     appliedlearning music_arts    | 0.43597560975609756 |  0.5640243902439024 |\n",
            "|    literacy_language music_arts   | 0.45811240721102864 |  0.5418875927889714 |\n",
            "|      health_sports music_arts     |  0.4166666666666667 |  0.5833333333333334 |\n",
            "|      specialneeds music_arts      | 0.43795620437956206 |  0.5620437956204379 |\n",
            "|      music_arts specialneeds      |  0.5483870967741935 | 0.45161290322580644 |\n",
            "|  literacy_language history_civics |  0.5669642857142857 |  0.4330357142857143 |\n",
            "|   appliedlearning health_sports   | 0.44963144963144963 |  0.5503685503685504 |\n",
            "|   appliedlearning history_civics  | 0.43617021276595747 |  0.5638297872340425 |\n",
            "|     history_civics music_arts     |  0.5461538461538461 | 0.45384615384615384 |\n",
            "|    history_civics specialneeds    |  0.4017094017094017 |  0.5982905982905983 |\n",
            "|  literacy_language health_sports  | 0.38181818181818183 |  0.6181818181818182 |\n",
            "|   history_civics appliedlearning  |  0.5714285714285714 | 0.42857142857142855 |\n",
            "|     music_arts appliedlearning    | 0.08333333333333333 |  0.9166666666666666 |\n",
            "|    health_sports history_civics   |        0.5625       |        0.4375       |\n",
            "|      music_arts health_sports     |  0.3157894736842105 |  0.6842105263157895 |\n",
            "|    history_civics health_sports   |  0.3333333333333333 |  0.6666666666666666 |\n",
            "|     music_arts history_civics     |  0.3333333333333333 |  0.6666666666666666 |\n",
            "| history_civics warmth care_hunger |         0.0         |         1.0         |\n",
            "+-----------------------------------+---------------------+---------------------+\n"
          ],
          "name": "stdout"
        },
        {
          "output_type": "stream",
          "text": [
            "\n"
          ],
          "name": "stderr"
        }
      ]
    },
    {
      "cell_type": "code",
      "metadata": {
        "id": "aCdqi9i_KWjs"
      },
      "source": [
        "for i in range(len(X_train)):\n",
        "  X_train[\"clean_categories_class_0\"]=School_state_Response_coding[X_train[\"clean_categories\"].iloc[i]][0]\n",
        "  X_train[\"clean_categories_class_1\"]=School_state_Response_coding[X_train[\"clean_categories\"].iloc[i]][1]"
      ],
      "execution_count": 33,
      "outputs": []
    },
    {
      "cell_type": "code",
      "metadata": {
        "id": "XSmJKIFEKi2m"
      },
      "source": [
        "for i in range(len(X_test)):\n",
        "  if X_test[\"clean_categories\"].iloc[i] not in list(School_state_Response_coding.keys()):\n",
        "     X_test[\"clean_categories_class_0\"]=0.5\n",
        "     X_test[\"clean_categories_class_1\"]=0.5\n",
        "  else:\n",
        "    X_test[\"clean_categories_class_0\"]=School_state_Response_coding[X_test[\"clean_categories\"].iloc[i]][0]\n",
        "    X_test[\"clean_categories_class_1\"]=School_state_Response_coding[X_test[\"clean_categories\"].iloc[i]][1]"
      ],
      "execution_count": 34,
      "outputs": []
    },
    {
      "cell_type": "code",
      "metadata": {
        "id": "hQwezCnQf-ms"
      },
      "source": [
        "clean_categories_train_class_0=np.array(X_train[\"clean_categories_class_0\"]).reshape(-1,1)\n",
        "clean_categories_train_class_1=np.array(X_train[\"clean_categories_class_1\"]).reshape(-1,1)\n",
        "clean_categories_test_class_0=np.array(X_test[\"clean_categories_class_0\"]).reshape(-1,1)\n",
        "clean_categories_test_class_1=np.array(X_test[\"clean_categories_class_1\"]).reshape(-1,1)"
      ],
      "execution_count": 35,
      "outputs": []
    },
    {
      "cell_type": "markdown",
      "metadata": {
        "id": "cDYzf1HpKu80"
      },
      "source": [
        "encoding categorical features: Subsubject category"
      ]
    },
    {
      "cell_type": "code",
      "metadata": {
        "id": "WnFthD8bK5iX",
        "colab": {
          "base_uri": "https://localhost:8080/"
        },
        "outputId": "f28ff625-6415-4613-9a6d-a03003332787"
      },
      "source": [
        "School_state_Response_coding=response_coding(X_train, y_train,\"clean_subcategories\")"
      ],
      "execution_count": 36,
      "outputs": [
        {
          "output_type": "stream",
          "text": [
            "100%|██████████| 342/342 [00:03<00:00, 100.77it/s]\n"
          ],
          "name": "stderr"
        },
        {
          "output_type": "stream",
          "text": [
            "\n",
            "+-----------------------------------------+---------------------+---------------------+\n",
            "|           clean_subcategories           |       class 1       |       class 0       |\n",
            "+-----------------------------------------+---------------------+---------------------+\n",
            "|               specialneeds              |  0.4443368828654405 |  0.5556631171345595 |\n",
            "|       health_wellness specialneeds      |  0.529874213836478  |  0.470125786163522  |\n",
            "|     earlydevelopment extracurricular    | 0.35714285714285715 |  0.6428571428571429 |\n",
            "|         specialneeds teamsports         |  0.4482758620689655 |  0.5517241379310345 |\n",
            "|       literacy literature_writing       |  0.5188313973952834 | 0.48116860260471667 |\n",
            "|           literacy mathematics          |  0.5186680121089808 | 0.48133198789101916 |\n",
            "|             appliedsciences             |  0.4254224834680382 |  0.5745775165319618 |\n",
            "|     appliedsciences health_wellness     |         0.75        |         0.25        |\n",
            "|          appliedsciences other          |  0.5294117647058824 | 0.47058823529411764 |\n",
            "|  civics_government environmentalscience | 0.11764705882352941 |  0.8823529411764706 |\n",
            "|          gym_fitness teamsports         |  0.3569682151589242 |  0.6430317848410758 |\n",
            "|     environmentalscience visualarts     |  0.5416666666666666 |  0.4583333333333333 |\n",
            "|             health_wellness             |  0.572848948374761  | 0.42715105162523903 |\n",
            "|      health_lifescience mathematics     |  0.4299363057324841 |  0.5700636942675159 |\n",
            "|   earlydevelopment literature_writing   | 0.49572649572649574 |  0.5042735042735043 |\n",
            "|      literature_writing mathematics     |  0.5274068868587491 | 0.47259311314125085 |\n",
            "|                 literacy                |  0.5652378709373528 |  0.4347621290626472 |\n",
            "|       health_lifescience literacy       |  0.5975609756097561 |  0.4024390243902439 |\n",
            "|       health_wellness mathematics       |  0.5033557046979866 |  0.4966442953020134 |\n",
            "|               gym_fitness               |  0.5272020725388601 |  0.4727979274611399 |\n",
            "|    health_wellness nutritioneducation   |  0.5177304964539007 | 0.48226950354609927 |\n",
            "|            health_lifescience           |  0.5053475935828877 |  0.4946524064171123 |\n",
            "|      earlydevelopment specialneeds      | 0.41626794258373206 |  0.583732057416268  |\n",
            "|          literacy specialneeds          |  0.5364055299539171 | 0.46359447004608295 |\n",
            "|       gym_fitness health_wellness       |  0.5975683890577508 |  0.4024316109422492 |\n",
            "|               mathematics               | 0.42604387827317763 |  0.5739561217268223 |\n",
            "|          health_wellness other          |  0.4639175257731959 |  0.5360824742268041 |\n",
            "|            charactereducation           | 0.43258426966292135 |  0.5674157303370787 |\n",
            "|        history_geography literacy       |  0.6682027649769585 |  0.3317972350230415 |\n",
            "|       appliedsciences mathematics       | 0.45136866627839256 |  0.5486313337216074 |\n",
            "|       economics history_geography       |  0.8333333333333334 | 0.16666666666666666 |\n",
            "|         health_wellness literacy        |  0.5075528700906344 | 0.49244712990936557 |\n",
            "|            nutritioneducation           | 0.42913385826771655 |  0.5708661417322834 |\n",
            "|            mathematics other            |         0.5         |         0.5         |\n",
            "|        health_wellness teamsports       |  0.4641350210970464 |  0.5358649789029536 |\n",
            "|       communityservice mathematics      |  0.7272727272727273 |  0.2727272727272727 |\n",
            "|          esl literature_writing         | 0.45320197044334976 |  0.5467980295566502 |\n",
            "|           environmentalscience          |  0.446985446985447  |  0.553014553014553  |\n",
            "|         appliedsciences literacy        |  0.4228395061728395 |  0.5771604938271605 |\n",
            "|     literature_writing specialneeds     |  0.4570063694267516 |  0.5429936305732485 |\n",
            "|           esl earlydevelopment          |  0.8695652173913043 | 0.13043478260869565 |\n",
            "|               esl literacy              |  0.5505725190839694 |  0.4494274809160305 |\n",
            "|        appliedsciences visualarts       |  0.4734042553191489 |  0.526595744680851  |\n",
            "|                teamsports               | 0.46638655462184875 |  0.5336134453781513 |\n",
            "|   appliedsciences environmentalscience  | 0.40237691001697795 |  0.597623089983022  |\n",
            "|    health_wellness literature_writing   |  0.553763440860215  | 0.44623655913978494 |\n",
            "|            literature_writing           |  0.5234929078014184 | 0.47650709219858156 |\n",
            "|    appliedsciences literature_writing   |  0.4722222222222222 |  0.5277777777777778 |\n",
            "|         mathematics specialneeds        |  0.4517241379310345 |  0.5482758620689655 |\n",
            "|             earlydevelopment            | 0.43621399176954734 |  0.5637860082304527 |\n",
            "|    health_lifescience socialsciences    |  0.5686274509803921 | 0.43137254901960786 |\n",
            "|                visualarts               |  0.5098425196850394 | 0.49015748031496065 |\n",
            "|     environmentalscience mathematics    | 0.37678207739307534 |  0.6232179226069247 |\n",
            "|              socialsciences             |  0.4666666666666667 |  0.5333333333333333 |\n",
            "|       earlydevelopment visualarts       | 0.30851063829787234 |  0.6914893617021277 |\n",
            "| environmentalscience literature_writing |  0.4513888888888889 |  0.5486111111111112 |\n",
            "|              literacy other             |  0.5161290322580645 |  0.4838709677419355 |\n",
            "|     appliedsciences extracurricular     |  0.6938775510204082 | 0.30612244897959184 |\n",
            "|      literature_writing visualarts      | 0.43869209809264303 |  0.5613079019073569 |\n",
            "|   literature_writing parentinvolvement  |  0.5789473684210527 | 0.42105263157894735 |\n",
            "|  environmentalscience history_geography |  0.6538461538461539 | 0.34615384615384615 |\n",
            "|            gym_fitness music            |         0.6         |         0.4         |\n",
            "| environmentalscience health_lifescience |  0.4725490196078431 |  0.5274509803921569 |\n",
            "|        civics_government literacy       |  0.6060606060606061 |  0.3939393939393939 |\n",
            "|         specialneeds visualarts         | 0.43795620437956206 |  0.5620437956204379 |\n",
            "|      environmentalscience literacy      |  0.5020408163265306 | 0.49795918367346936 |\n",
            "|        foreignlanguages literacy        | 0.46956521739130436 |  0.5304347826086957 |\n",
            "|            other specialneeds           |  0.4797297297297297 |  0.5202702702702703 |\n",
            "|     history_geography socialsciences    |  0.5144508670520231 | 0.48554913294797686 |\n",
            "|      history_geography mathematics      |        0.625        |        0.375        |\n",
            "|       charactereducation literacy       |  0.5243243243243243 |  0.4756756756756757 |\n",
            "|                  music                  |  0.5707964601769911 | 0.42920353982300885 |\n",
            "|          mathematics visualarts         | 0.45161290322580644 |  0.5483870967741935 |\n",
            "|    appliedsciences college_careerprep   | 0.42105263157894735 |  0.5789473684210527 |\n",
            "|                  other                  |  0.4897435897435897 |  0.5102564102564102 |\n",
            "|       performingarts specialneeds       |         0.5         |         0.5         |\n",
            "|         literacy performingarts         |  0.5454545454545454 | 0.45454545454545453 |\n",
            "|         extracurricular literacy        |  0.6086956521739131 |  0.391304347826087  |\n",
            "|    health_lifescience health_wellness   |  0.4954954954954955 |  0.5045045045045045 |\n",
            "|   charactereducation earlydevelopment   |  0.4016393442622951 |  0.5983606557377049 |\n",
            "|         gym_fitness mathematics         | 0.42857142857142855 |  0.5714285714285714 |\n",
            "|              literacy music             |  0.7377049180327869 | 0.26229508196721313 |\n",
            "|     health_lifescience specialneeds     |  0.4714285714285714 |  0.5285714285714286 |\n",
            "|    literature_writing performingarts    |  0.6415094339622641 |  0.3584905660377358 |\n",
            "|    appliedsciences health_lifescience   |  0.4194528875379939 |  0.5805471124620061 |\n",
            "|    literature_writing socialsciences    |       0.578125      |       0.421875      |\n",
            "|      health_lifescience visualarts      |  0.6129032258064516 |  0.3870967741935484 |\n",
            "|   civics_government literature_writing  |  0.5901639344262295 |  0.4098360655737705 |\n",
            "|  communityservice environmentalscience  |  0.6666666666666666 |  0.3333333333333333 |\n",
            "|          mathematics teamsports         |        0.125        |        0.875        |\n",
            "|   history_geography literature_writing  |  0.5531135531135531 |  0.4468864468864469 |\n",
            "|   charactereducation communityservice   |  0.4583333333333333 |  0.5416666666666666 |\n",
            "| environmentalscience nutritioneducation | 0.29411764705882354 |  0.7058823529411765 |\n",
            "|     nutritioneducation specialneeds     |  0.5238095238095238 | 0.47619047619047616 |\n",
            "|  earlydevelopment environmentalscience  | 0.30952380952380953 |  0.6904761904761905 |\n",
            "|        earlydevelopment literacy        |  0.5116883116883116 |  0.4883116883116883 |\n",
            "|    appliedsciences charactereducation   |  0.6470588235294118 | 0.35294117647058826 |\n",
            "|             esl specialneeds            |  0.4782608695652174 |  0.5217391304347826 |\n",
            "|   foreignlanguages literature_writing   | 0.30985915492957744 |  0.6901408450704225 |\n",
            "|    environmentalscience specialneeds    |  0.6530612244897959 |  0.3469387755102041 |\n",
            "|    college_careerprep performingarts    |         0.6         |         0.4         |\n",
            "|   health_lifescience history_geography  |         0.45        |         0.55        |\n",
            "|        communityservice literacy        | 0.38461538461538464 |  0.6153846153846154 |\n",
            "|           music performingarts          |  0.5734265734265734 | 0.42657342657342656 |\n",
            "|            history_geography            |  0.4784172661870504 |  0.5215827338129496 |\n",
            "|      college_careerprep visualarts      |  0.4583333333333333 |  0.5416666666666666 |\n",
            "|            music specialneeds           |  0.5555555555555556 |  0.4444444444444444 |\n",
            "|     earlydevelopment health_wellness    |  0.4824120603015075 |  0.5175879396984925 |\n",
            "|   environmentalscience health_wellness  |        0.325        |        0.675        |\n",
            "|     appliedsciences communityservice    |  0.3076923076923077 |  0.6923076923076923 |\n",
            "|     appliedsciences earlydevelopment    | 0.39361702127659576 |  0.6063829787234043 |\n",
            "|    charactereducation socialsciences    |        0.375        |        0.625        |\n",
            "|   communityservice literature_writing   | 0.42857142857142855 |  0.5714285714285714 |\n",
            "|  college_careerprep literature_writing  |  0.6134453781512605 |  0.3865546218487395 |\n",
            "|         history_geography music         |         1.0         |         0.0         |\n",
            "|         charactereducation other        |         0.45        |         0.55        |\n",
            "|            civics_government            | 0.46938775510204084 |  0.5306122448979592 |\n",
            "|         economics socialsciences        |         1.0         |         0.0         |\n",
            "|         literacy socialsciences         |  0.5943396226415094 |  0.4056603773584906 |\n",
            "|   communityservice health_lifescience   |         0.0         |         1.0         |\n",
            "|    college_careerprep extracurricular   |  0.4090909090909091 |  0.5909090909090909 |\n",
            "|          esl history_geography          |  0.5263157894736842 | 0.47368421052631576 |\n",
            "|      college_careerprep mathematics     |         0.45        |         0.55        |\n",
            "|             esl mathematics             |  0.5114503816793893 | 0.48854961832061067 |\n",
            "|       foreignlanguages mathematics      |  0.3181818181818182 |  0.6818181818181818 |\n",
            "|  health_lifescience literature_writing  |  0.6704545454545454 | 0.32954545454545453 |\n",
            "|      charactereducation mathematics     |  0.4482758620689655 |  0.5517241379310345 |\n",
            "|       socialsciences specialneeds       |  0.3684210526315789 |  0.631578947368421  |\n",
            "|           esl health_wellness           |         0.35        |         0.65        |\n",
            "|    foreignlanguages history_geography   |         0.5         |         0.5         |\n",
            "|   earlydevelopment health_lifescience   | 0.19230769230769232 |  0.8076923076923077 |\n",
            "|            esl performingarts           | 0.16666666666666666 |  0.8333333333333334 |\n",
            "|  college_careerprep health_lifescience  |        0.8125       |        0.1875       |\n",
            "|      gym_fitness nutritioneducation     |  0.6097560975609756 |  0.3902439024390244 |\n",
            "|           literacy visualarts           |  0.4144736842105263 |  0.5855263157894737 |\n",
            "|    extracurricular parentinvolvement    |         0.4         |         0.6         |\n",
            "|   college_careerprep financialliteracy  |         0.25        |         0.75        |\n",
            "|   civics_government history_geography   | 0.43478260869565216 |  0.5652173913043478 |\n",
            "|             extracurricular             | 0.30357142857142855 |  0.6964285714285714 |\n",
            "|    charactereducation health_wellness   | 0.36363636363636365 |  0.6363636363636364 |\n",
            "|     college_careerprep specialneeds     | 0.36619718309859156 |  0.6338028169014085 |\n",
            "|              performingarts             |  0.5897435897435898 | 0.41025641025641024 |\n",
            "|       earlydevelopment mathematics      |  0.4074074074074074 |  0.5925925925925926 |\n",
            "|       college_careerprep literacy       |  0.6555555555555556 | 0.34444444444444444 |\n",
            "|      financialliteracy mathematics      |  0.4482758620689655 |  0.5517241379310345 |\n",
            "|     charactereducation specialneeds     |  0.3894736842105263 |  0.6105263157894737 |\n",
            "|          earlydevelopment other         |  0.5301204819277109 | 0.46987951807228917 |\n",
            "|      financialliteracy specialneeds     |  0.2222222222222222 |  0.7777777777777778 |\n",
            "|                   esl                   |  0.4434782608695652 |  0.5565217391304348 |\n",
            "|        performingarts visualarts        |  0.3939393939393939 |  0.6060606060606061 |\n",
            "|             foreignlanguages            |  0.422680412371134  |  0.5773195876288659 |\n",
            "| college_careerprep environmentalscience |         0.45        |         0.55        |\n",
            "|        environmentalscience other       |         1.0         |         0.0         |\n",
            "|    extracurricular literature_writing   |  0.8333333333333334 | 0.16666666666666666 |\n",
            "|  charactereducation college_careerprep  |         0.4         |         0.6         |\n",
            "|        socialsciences visualarts        | 0.34210526315789475 |  0.6578947368421053 |\n",
            "|       earlydevelopment gym_fitness      |  0.5909090909090909 |  0.4090909090909091 |\n",
            "|    charactereducation extracurricular   |         0.4         |         0.6         |\n",
            "|            college_careerprep           |  0.5411764705882353 |  0.4588235294117647 |\n",
            "|        mathematics socialsciences       |         0.48        |         0.52        |\n",
            "|        literacy parentinvolvement       |  0.5588235294117647 |  0.4411764705882353 |\n",
            "|      literature_writing teamsports      |  0.2222222222222222 |  0.7777777777777778 |\n",
            "|       extracurricular mathematics       |         0.56        |         0.44        |\n",
            "|      nutritioneducation teamsports      | 0.16666666666666666 |  0.8333333333333334 |\n",
            "|  charactereducation health_lifescience  |  0.4090909090909091 |  0.5909090909090909 |\n",
            "|    extracurricular health_lifescience   |  0.2222222222222222 |  0.7777777777777778 |\n",
            "|      history_geography specialneeds     |  0.4090909090909091 |  0.5909090909090909 |\n",
            "|         nutritioneducation other        |  0.1111111111111111 |  0.8888888888888888 |\n",
            "|     history_geography performingarts    |         1.0         |         0.0         |\n",
            "|    appliedsciences history_geography    | 0.45098039215686275 |  0.5490196078431373 |\n",
            "|      communityservice specialneeds      | 0.42857142857142855 |  0.5714285714285714 |\n",
            "|       appliedsciences specialneeds      |  0.6690140845070423 | 0.33098591549295775 |\n",
            "|          economics mathematics          |         1.0         |         0.0         |\n",
            "|    earlydevelopment parentinvolvement   | 0.29411764705882354 |  0.7058823529411765 |\n",
            "|      health_wellness performingarts     |  0.8333333333333334 | 0.16666666666666666 |\n",
            "|                economics                |  0.5333333333333333 |  0.4666666666666667 |\n",
            "|          charactereducation esl         | 0.05555555555555555 |  0.9444444444444444 |\n",
            "|     earlydevelopment socialsciences     |         0.4         |         0.6         |\n",
            "|         other parentinvolvement         |  0.7142857142857143 |  0.2857142857142857 |\n",
            "|        mathematics performingarts       |         1.0         |         0.0         |\n",
            "|       civics_government visualarts      |         0.5         |         0.5         |\n",
            "|    college_careerprep health_wellness   |  0.3333333333333333 |  0.6666666666666666 |\n",
            "|      foreignlanguages specialneeds      |  0.4166666666666667 |  0.5833333333333334 |\n",
            "|                esl music                |         0.5         |         0.5         |\n",
            "|          earlydevelopment music         |  0.6363636363636364 | 0.36363636363636365 |\n",
            "|            financialliteracy            | 0.21428571428571427 |  0.7857142857142857 |\n",
            "|           literacy teamsports           |  0.5714285714285714 | 0.42857142857142855 |\n",
            "|          health_wellness music          | 0.38461538461538464 |  0.6153846153846154 |\n",
            "|     civics_government socialsciences    |  0.6428571428571429 | 0.35714285714285715 |\n",
            "|         literature_writing other        | 0.37362637362637363 |  0.6263736263736264 |\n",
            "|      parentinvolvement specialneeds     |         0.0         |         1.0         |\n",
            "|         gym_fitness specialneeds        |  0.5581395348837209 |  0.4418604651162791 |\n",
            "|       history_geography visualarts      |  0.5652173913043478 | 0.43478260869565216 |\n",
            "|         college_careerprep other        |  0.4426229508196721 |  0.5573770491803278 |\n",
            "|  charactereducation literature_writing  |  0.6363636363636364 | 0.36363636363636365 |\n",
            "|      charactereducation visualarts      |  0.5172413793103449 |  0.4827586206896552 |\n",
            "|         literature_writing music        |         0.35        |         0.65        |\n",
            "|           gym_fitness literacy          |         0.5         |         0.5         |\n",
            "|         history_geography other         |  0.3333333333333333 |  0.6666666666666666 |\n",
            "|        financialliteracy literacy       |         1.0         |         0.0         |\n",
            "|      gym_fitness health_lifescience     |  0.3333333333333333 |  0.6666666666666666 |\n",
            "|      gym_fitness literature_writing     |         0.5         |         0.5         |\n",
            "|          college_careerprep esl         |  0.3333333333333333 |  0.6666666666666666 |\n",
            "|          gym_fitness visualarts         |         0.3         |         0.7         |\n",
            "|   charactereducation parentinvolvement  | 0.38461538461538464 |  0.6153846153846154 |\n",
            "|           appliedsciences esl           |  0.5263157894736842 | 0.47368421052631576 |\n",
            "|       communityservice visualarts       |  0.4090909090909091 |  0.5909090909090909 |\n",
            "|              esl visualarts             | 0.45714285714285713 |  0.5428571428571428 |\n",
            "|         charactereducation music        |  0.5833333333333334 |  0.4166666666666667 |\n",
            "|      appliedsciences socialsciences     |  0.6086956521739131 |  0.391304347826087  |\n",
            "|             music visualarts            | 0.43478260869565216 |  0.5652173913043478 |\n",
            "|      appliedsciences performingarts     |  0.5555555555555556 |  0.4444444444444444 |\n",
            "|            parentinvolvement            |         0.5         |         0.5         |\n",
            "|               music other               | 0.14285714285714285 |  0.8571428571428571 |\n",
            "|         college_careerprep music        |         0.0         |         1.0         |\n",
            "|        extracurricular visualarts       | 0.47368421052631576 |  0.5263157894736842 |\n",
            "|  health_lifescience nutritioneducation  |         0.3         |         0.7         |\n",
            "|   environmentalscience extracurricular  |         0.3         |         0.7         |\n",
            "|            mathematics music            |         1.0         |         0.0         |\n",
            "|     appliedsciences foreignlanguages    |         0.4         |         0.6         |\n",
            "|        health_wellness visualarts       |         0.44        |         0.56        |\n",
            "|    appliedsciences civics_government    | 0.21428571428571427 |  0.7857142857142857 |\n",
            "|   college_careerprep earlydevelopment   |  0.5833333333333334 |  0.4166666666666667 |\n",
            "|          esl financialliteracy          |         0.0         |         1.0         |\n",
            "|         health_lifescience other        |         1.0         |         0.0         |\n",
            "|  college_careerprep nutritioneducation  |         0.6         |         0.4         |\n",
            "|           esl foreignlanguages          |  0.6428571428571429 | 0.35714285714285715 |\n",
            "|    civics_government foreignlanguages   |         1.0         |         0.0         |\n",
            "|          appliedsciences music          | 0.45454545454545453 |  0.5454545454545454 |\n",
            "|         esl environmentalscience        |  0.4166666666666667 |  0.5833333333333334 |\n",
            "|         music parentinvolvement         |         0.0         |         1.0         |\n",
            "|    extracurricular history_geography    |         1.0         |         0.0         |\n",
            "|   health_lifescience parentinvolvement  | 0.16666666666666666 |  0.8333333333333334 |\n",
            "|          esl health_lifescience         |         0.5         |         0.5         |\n",
            "|             communityservice            |        0.375        |        0.625        |\n",
            "|   charactereducation financialliteracy  | 0.16666666666666666 |  0.8333333333333334 |\n",
            "|   environmentalscience performingarts   |         0.2         |         0.8         |\n",
            "|   environmentalscience socialsciences   |         0.52        |         0.48        |\n",
            "|    charactereducation performingarts    |         0.6         |         0.4         |\n",
            "|       parentinvolvement visualarts      |  0.3333333333333333 |  0.6666666666666666 |\n",
            "|     communityservice extracurricular    |  0.2631578947368421 |  0.7368421052631579 |\n",
            "|         health_lifescience music        |         1.0         |         0.0         |\n",
            "|            economics literacy           |  0.4444444444444444 |  0.5555555555555556 |\n",
            "|       economics financialliteracy       |         0.5         |         0.5         |\n",
            "|    health_wellness parentinvolvement    |         0.0         |         1.0         |\n",
            "|      extracurricular performingarts     |         1.0         |         0.0         |\n",
            "|          extracurricular other          | 0.36363636363636365 |  0.6363636363636364 |\n",
            "|      health_wellness socialsciences     |  0.6153846153846154 | 0.38461538461538464 |\n",
            "|     extracurricular health_wellness     |  0.2857142857142857 |  0.7142857142857143 |\n",
            "|   college_careerprep communityservice   |         0.5         |         0.5         |\n",
            "|    civics_government communityservice   |  0.5714285714285714 | 0.42857142857142855 |\n",
            "|       economics health_lifescience      |         1.0         |         0.0         |\n",
            "|          esl nutritioneducation         |         1.0         |         0.0         |\n",
            "|             other visualarts            |  0.3548387096774194 |  0.6451612903225806 |\n",
            "|   college_careerprep foreignlanguages   |         0.8         |         0.2         |\n",
            "|     foreignlanguages health_wellness    |  0.2857142857142857 |  0.7142857142857143 |\n",
            "|       civics_government economics       |  0.4444444444444444 |  0.5555555555555556 |\n",
            "|             music teamsports            | 0.18181818181818182 |  0.8181818181818182 |\n",
            "|   earlydevelopment nutritioneducation   |  0.2857142857142857 |  0.7142857142857143 |\n",
            "|    nutritioneducation socialsciences    |         1.0         |         0.0         |\n",
            "|      gym_fitness parentinvolvement      |         1.0         |         0.0         |\n",
            "|    communityservice earlydevelopment    |         1.0         |         0.0         |\n",
            "|     communityservice socialsciences     |         0.5         |         0.5         |\n",
            "|       literacy nutritioneducation       |  0.3333333333333333 |  0.6666666666666666 |\n",
            "|          communityservice other         | 0.07142857142857142 |  0.9285714285714286 |\n",
            "|    college_careerprep socialsciences    |  0.5833333333333334 |  0.4166666666666667 |\n",
            "|       economics nutritioneducation      |         1.0         |         0.0         |\n",
            "|        gym_fitness performingarts       |  0.2222222222222222 |  0.7777777777777778 |\n",
            "|   college_careerprep history_geography  |         1.0         |         0.0         |\n",
            "|    financialliteracy health_wellness    |         1.0         |         0.0         |\n",
            "|            esl socialsciences           |         0.4         |         0.6         |\n",
            "|    extracurricular nutritioneducation   |  0.3333333333333333 |  0.6666666666666666 |\n",
            "|      mathematics parentinvolvement      |  0.6666666666666666 |  0.3333333333333333 |\n",
            "|                esl other                |  0.2857142857142857 |  0.7142857142857143 |\n",
            "|     communityservice health_wellness    |  0.6666666666666666 |  0.3333333333333333 |\n",
            "|          foreignlanguages music         |        0.375        |        0.625        |\n",
            "|          teamsports visualarts          |  0.3076923076923077 |  0.6923076923076923 |\n",
            "|  environmentalscience parentinvolvement |         0.4         |         0.6         |\n",
            "|    communityservice history_geography   |  0.6666666666666666 |  0.3333333333333333 |\n",
            "|       history_geography teamsports      |         0.0         |         1.0         |\n",
            "|      performingarts socialsciences      |  0.3333333333333333 |  0.6666666666666666 |\n",
            "|     civics_government performingarts    |         1.0         |         0.0         |\n",
            "|     foreignlanguages socialsciences     |         0.0         |         1.0         |\n",
            "|       extracurricular specialneeds      |         1.0         |         0.0         |\n",
            "|        appliedsciences economics        |         0.25        |         0.75        |\n",
            "|       earlydevelopment teamsports       |         1.0         |         0.0         |\n",
            "|    health_wellness history_geography    |         0.4         |         0.6         |\n",
            "|       foreignlanguages visualarts       |         0.25        |         0.75        |\n",
            "|  environmentalscience foreignlanguages  |         1.0         |         0.0         |\n",
            "|        extracurricular teamsports       |         1.0         |         0.0         |\n",
            "|    earlydevelopment financialliteracy   |         0.0         |         1.0         |\n",
            "|   college_careerprep parentinvolvement  |  0.5384615384615384 | 0.46153846153846156 |\n",
            "|          esl parentinvolvement          |         0.25        |         0.75        |\n",
            "|           other socialsciences          |         0.2         |         0.8         |\n",
            "|   civics_government health_lifescience  |         0.4         |         0.6         |\n",
            "|   charactereducation history_geography  |  0.3333333333333333 |  0.6666666666666666 |\n",
            "|      gym_fitness history_geography      |         1.0         |         0.0         |\n",
            "|      college_careerprep teamsports      |         1.0         |         0.0         |\n",
            "| charactereducation environmentalscience |  0.6666666666666666 |  0.3333333333333333 |\n",
            "|            gym_fitness other            |         0.5         |         0.5         |\n",
            "|       financialliteracy visualarts      |         1.0         |         0.0         |\n",
            "|      charactereducation teamsports      | 0.20833333333333334 |  0.7916666666666666 |\n",
            "|   civics_government financialliteracy   |         1.0         |         0.0         |\n",
            "|      mathematics nutritioneducation     |  0.4444444444444444 |  0.5555555555555556 |\n",
            "|    earlydevelopment history_geography   |         1.0         |         0.0         |\n",
            "|          extracurricular music          |         1.0         |         0.0         |\n",
            "|   civics_government college_careerprep  |         1.0         |         0.0         |\n",
            "|    civics_government extracurricular    |         1.0         |         0.0         |\n",
            "|      civics_government mathematics      |         0.4         |         0.6         |\n",
            "|       appliedsciences gym_fitness       |  0.5454545454545454 | 0.45454545454545453 |\n",
            "|        appliedsciences teamsports       |         0.2         |         0.8         |\n",
            "|          economics specialneeds         |         1.0         |         0.0         |\n",
            "|      civics_government specialneeds     |         1.0         |         0.0         |\n",
            "|        performingarts teamsports        |         0.5         |         0.5         |\n",
            "|     parentinvolvement socialsciences    |         1.0         |         0.0         |\n",
            "|      charactereducation gym_fitness     |         0.0         |         1.0         |\n",
            "|       foreignlanguages gym_fitness      |         1.0         |         0.0         |\n",
            "|    communityservice parentinvolvement   |         1.0         |         0.0         |\n",
            "|  charactereducation nutritioneducation  |         1.0         |         0.0         |\n",
            "|   foreignlanguages health_lifescience   |         1.0         |         0.0         |\n",
            "|             other teamsports            |         1.0         |         0.0         |\n",
            "|             economics music             |         1.0         |         0.0         |\n",
            "|    appliedsciences parentinvolvement    |         0.75        |         0.25        |\n",
            "|           music socialsciences          |  0.3333333333333333 |  0.6666666666666666 |\n",
            "|   charactereducation civics_government  |         0.75        |         0.25        |\n",
            "|      health_lifescience teamsports      |         1.0         |         0.0         |\n",
            "|      nutritioneducation visualarts      |         1.0         |         0.0         |\n",
            "|     foreignlanguages performingarts     |         0.0         |         1.0         |\n",
            "|      economics environmentalscience     |         1.0         |         0.0         |\n",
            "|   history_geography warmth care_hunger  |         0.0         |         1.0         |\n",
            "|             esl gym_fitness             |         0.0         |         1.0         |\n",
            "|     environmentalscience gym_fitness    |         1.0         |         0.0         |\n",
            "|    appliedsciences nutritioneducation   |         1.0         |         0.0         |\n",
            "|          civics_government esl          |         1.0         |         0.0         |\n",
            "|   financialliteracy history_geography   |         0.0         |         1.0         |\n",
            "|     earlydevelopment performingarts     |         1.0         |         0.0         |\n",
            "|      extracurricular socialsciences     |         1.0         |         0.0         |\n",
            "|        environmentalscience music       |         1.0         |         0.0         |\n",
            "|        gym_fitness socialsciences       |         1.0         |         0.0         |\n",
            "|       extracurricular gym_fitness       |         1.0         |         0.0         |\n",
            "|   communityservice nutritioneducation   |         1.0         |         0.0         |\n",
            "|  literature_writing nutritioneducation  |         1.0         |         0.0         |\n",
            "+-----------------------------------------+---------------------+---------------------+\n"
          ],
          "name": "stdout"
        }
      ]
    },
    {
      "cell_type": "code",
      "metadata": {
        "id": "eqDazcfyK93s"
      },
      "source": [
        "for i in range(len(X_train)):\n",
        "  X_train[\"clean_subcategories_category_class_0\"]=School_state_Response_coding[X_train[\"clean_subcategories\"].iloc[i]][0]\n",
        "  X_train[\"clean_subcategories_category_class_1\"]=School_state_Response_coding[X_train[\"clean_subcategories\"].iloc[i]][1]"
      ],
      "execution_count": 37,
      "outputs": []
    },
    {
      "cell_type": "code",
      "metadata": {
        "id": "vLzkrV1JLK_8"
      },
      "source": [
        "for i in range(len(X_test)):\n",
        "  if X_test[\"clean_subcategories\"].iloc[i] not in list(School_state_Response_coding.keys()):\n",
        "      X_test[\"clean_subcategories_category_class_0\"]=0.5\n",
        "      X_test[\"clean_subcategories_category_class_1\"]=0.5\n",
        "  else:\n",
        "    X_test[\"clean_subcategories_category_class_0\"]=School_state_Response_coding[X_test[\"clean_subcategories\"].iloc[i]][0]\n",
        "    X_test[\"clean_subcategories_category_class_1\"]=School_state_Response_coding[X_test[\"clean_subcategories\"].iloc[i]][1]"
      ],
      "execution_count": 38,
      "outputs": []
    },
    {
      "cell_type": "code",
      "metadata": {
        "id": "L3uJHMdfiEj3"
      },
      "source": [
        "clean_subcategories_category_train_class_0=np.array(X_train[\"clean_subcategories_category_class_0\"]).reshape(-1,1)\n",
        "clean_subcategories_category_train_class_1=np.array(X_train[\"clean_subcategories_category_class_1\"]).reshape(-1,1)\n",
        "clean_subcategories_category_test_class_0=np.array(X_test[\"clean_subcategories_category_class_0\"]).reshape(-1,1)\n",
        "clean_subcategories_category_test_class_1=np.array(X_test[\"clean_subcategories_category_class_1\"]).reshape(-1,1)"
      ],
      "execution_count": 39,
      "outputs": []
    },
    {
      "cell_type": "markdown",
      "metadata": {
        "id": "-g2t845kNFPi"
      },
      "source": [
        "encoding numerical features:  Price"
      ]
    },
    {
      "cell_type": "code",
      "metadata": {
        "id": "UbeP1OPNOJ6w"
      },
      "source": [
        "from sklearn.preprocessing import Normalizer\n",
        "normalizer = Normalizer()\n",
        "# normalizer.fit(X_train['price'].values)\n",
        "# this will rise an error Expected 2D array, got 1D array instead: \n",
        "# array=[105.22 215.96  96.01 ... 368.98  80.53 709.67].\n",
        "# Reshape your data either using \n",
        "# array.reshape(-1, 1) if your data has a single feature \n",
        "# array.reshape(1, -1)  if it contains a single sample.\n",
        "normalizer.fit(X_train['price'].values.reshape(-1,1))\n",
        "\n",
        "X_train_price_norm = normalizer.transform(X_train['price'].values.reshape(-1,1))\n",
        "X_test_price_norm = normalizer.transform(X_test['price'].values.reshape(-1,1))"
      ],
      "execution_count": 40,
      "outputs": []
    },
    {
      "cell_type": "markdown",
      "metadata": {
        "id": "PXuugXETOYSU"
      },
      "source": [
        "encoding numerical features: teacher_number_of_previously_posted_projects"
      ]
    },
    {
      "cell_type": "code",
      "metadata": {
        "id": "mb9G-oNROXIN"
      },
      "source": [
        "from sklearn.preprocessing import Normalizer\n",
        "normalizer = Normalizer()\n",
        "normalizer.fit(X_train['teacher_number_of_previously_posted_projects'].values.reshape(-1,1))\n",
        "X_train_previous_project_count = normalizer.transform(X_train['teacher_number_of_previously_posted_projects'].values.reshape(-1,1))\n",
        "X_test_previous_project_count = normalizer.transform(X_test['teacher_number_of_previously_posted_projects'].values.reshape(-1,1))"
      ],
      "execution_count": 41,
      "outputs": []
    },
    {
      "cell_type": "markdown",
      "metadata": {
        "id": "S3Vxxv2Hsc31"
      },
      "source": [
        "<h2>1.4 Make Data Model Ready: Encoding Text Values</h2>"
      ]
    },
    {
      "cell_type": "code",
      "metadata": {
        "id": "DCPE39zWW4y8"
      },
      "source": [
        "#please use below code to load glove vectors \n",
        "with open('/content/drive/MyDrive/glove_vectors', 'rb') as f:\n",
        "    model = pickle.load(f)\n",
        "    glove_words =  set(model.keys())"
      ],
      "execution_count": 42,
      "outputs": []
    },
    {
      "cell_type": "markdown",
      "metadata": {
        "id": "J6_n2FIiWBFg"
      },
      "source": [
        "Encoding Essay"
      ]
    },
    {
      "cell_type": "code",
      "metadata": {
        "id": "RAtihVPqsc33"
      },
      "source": [
        "#Encoding Essay into TFIDF vectors\n",
        "\n",
        "vectorizer = TfidfVectorizer(min_df=10,ngram_range=(1,3), max_features=5000)\n",
        "vectorizer.fit(X_train['essay'].values) # fit has to happen only on train data\n",
        "\n",
        "# we use the fitted TFIDF to convert the text to vector\n",
        "X_train_essay_TFIDF = vectorizer.transform(X_train['essay'].values)\n",
        "X_test_essay_TFIDF = vectorizer.transform(X_test['essay'].values)"
      ],
      "execution_count": 43,
      "outputs": []
    },
    {
      "cell_type": "code",
      "metadata": {
        "id": "_GMO90UTWGfh"
      },
      "source": [
        "dictionary_TFIDF = dict(zip(vectorizer.get_feature_names(), list(vectorizer.idf_)))\n",
        "tfidf_words_TFIDF = set(vectorizer.get_feature_names())"
      ],
      "execution_count": 44,
      "outputs": []
    },
    {
      "cell_type": "code",
      "metadata": {
        "id": "l67yqECZWIgd"
      },
      "source": [
        "#Code for ecndoing text into TFIDF-W2V vectors\n",
        "def TFIDFW2V(preprocessedessays,dictionary,words):\n",
        "   # average Word2Vec\n",
        "   # compute average word2vec for each review.\n",
        "   tfidf_w2v_vectors = []; # the avg-w2v for each sentence/review is stored in this list\n",
        "   for sentence in tqdm(preprocessedessays): # for each review/sentence\n",
        "       vector = np.zeros(300) # as word vectors are of zero length\n",
        "       tf_idf_weight =0; # num of words with a valid vector in the sentence/review\n",
        "       for word in sentence.split(): # for each word in a review/sentence\n",
        "           if (word in glove_words) and (word in words):\n",
        "               vec = model[word] # getting the vector for each word\n",
        "            # here we are multiplying idf value(dictionary[word]) and the tf value((sentence.count(word)/len(sentence.split())))\n",
        "               tf_idf = dictionary[word]*(sentence.count(word)/len(sentence.split())) # getting the tfidf value for each word\n",
        "               vector += (vec * tf_idf) # calculating tfidf weighted w2v\n",
        "               tf_idf_weight += tf_idf\n",
        "       if tf_idf_weight != 0:\n",
        "           vector /= tf_idf_weight\n",
        "       tfidf_w2v_vectors.append(vector)\n",
        "   return tfidf_w2v_vectors"
      ],
      "execution_count": 45,
      "outputs": []
    },
    {
      "cell_type": "code",
      "metadata": {
        "colab": {
          "base_uri": "https://localhost:8080/"
        },
        "id": "joT66sPEWv-p",
        "outputId": "af913f08-81eb-4489-b252-23d0af1c38b8"
      },
      "source": [
        "#Encoding Essay into TFIDF-w2v vectors\n",
        "X_train_essay_TFIDF_w2v = TFIDFW2V(X_train['essay'].values,dictionary_TFIDF,tfidf_words_TFIDF)\n",
        "X_test_essay_TFIDF_w2v = TFIDFW2V(X_test['essay'].values,dictionary_TFIDF,tfidf_words_TFIDF)"
      ],
      "execution_count": 46,
      "outputs": [
        {
          "output_type": "stream",
          "text": [
            "100%|██████████| 55449/55449 [01:45<00:00, 526.03it/s]\n",
            "100%|██████████| 36967/36967 [01:10<00:00, 524.94it/s]\n"
          ],
          "name": "stderr"
        }
      ]
    },
    {
      "cell_type": "markdown",
      "metadata": {
        "id": "4cJi44C-XYWq"
      },
      "source": [
        "Encoding Title"
      ]
    },
    {
      "cell_type": "code",
      "metadata": {
        "id": "nWBEFWQIXgAW"
      },
      "source": [
        "#Encoding Essay into TFIDF vectors\n",
        "\n",
        "vectorizer = TfidfVectorizer(min_df=10,ngram_range=(1,3),max_features=5000)\n",
        "vectorizer.fit(X_train['Title'].values) # fit has to happen only on train data\n",
        "\n",
        "# we use the fitted TFIDF to convert the text to vector\n",
        "X_train_title_TFIDF = vectorizer.transform(X_train['Title'].values)\n",
        "X_test_title_TFIDF = vectorizer.transform(X_test['Title'].values)"
      ],
      "execution_count": 47,
      "outputs": []
    },
    {
      "cell_type": "code",
      "metadata": {
        "id": "u2H1-HqEX5SZ"
      },
      "source": [
        "dictionary_TFIDF = dict(zip(vectorizer.get_feature_names(), list(vectorizer.idf_)))\n",
        "tfidf_words_TFIDF = set(vectorizer.get_feature_names())"
      ],
      "execution_count": 48,
      "outputs": []
    },
    {
      "cell_type": "code",
      "metadata": {
        "colab": {
          "base_uri": "https://localhost:8080/"
        },
        "id": "S2P2hl6kX8zf",
        "outputId": "1c47a714-f3b1-4e5f-a9a3-17186d7ffc76"
      },
      "source": [
        "X_train_title_TFIDF_w2v = TFIDFW2V(X_train['Title'].values,dictionary_TFIDF,tfidf_words_TFIDF)\n",
        "X_test_title_TFIDF_w2v = TFIDFW2V(X_test['Title'].values,dictionary_TFIDF,tfidf_words_TFIDF)"
      ],
      "execution_count": 49,
      "outputs": [
        {
          "output_type": "stream",
          "text": [
            "100%|██████████| 55449/55449 [00:00<00:00, 83179.95it/s]\n",
            "100%|██████████| 36967/36967 [00:00<00:00, 79189.06it/s]\n"
          ],
          "name": "stderr"
        }
      ]
    },
    {
      "cell_type": "markdown",
      "metadata": {
        "id": "HvAYulHrY4lH"
      },
      "source": [
        "SET-1"
      ]
    },
    {
      "cell_type": "code",
      "metadata": {
        "id": "AEUjdc7OY59q"
      },
      "source": [
        "from scipy.sparse import hstack\n",
        "X_tr_TFIDF = hstack((ss_train_neg,ss_train_pos,ss_train_neu,ss_train_comp,School_State_train_class_0,School_State_train_class_1,teacher_prefix_train_class_0,teacher_prefix_train_class_1,project_grade_category_train_class_0,project_grade_category_train_class_1,clean_categories_train_class_0,clean_categories_train_class_1,clean_subcategories_category_train_class_0,clean_subcategories_category_train_class_1,X_train_price_norm,X_train_previous_project_count,X_train_essay_TFIDF,X_train_title_TFIDF)).tocsr()\n",
        "X_te_TFIDF = hstack((ss_test_neg,ss_test_pos,ss_test_neu,ss_test_comp,School_State_test_class_0,School_State_test_class_1,teacher_prefix_test_class_0,teacher_prefix_test_class_1,project_grade_category_test_class_0,project_grade_category_test_class_1,clean_categories_test_class_0,clean_categories_test_class_1,clean_subcategories_category_test_class_0,clean_subcategories_category_test_class_1,X_test_price_norm,X_test_previous_project_count,X_test_essay_TFIDF,X_test_title_TFIDF)).tocsr()"
      ],
      "execution_count": 50,
      "outputs": []
    },
    {
      "cell_type": "code",
      "metadata": {
        "id": "oaf4gmRHD0vr"
      },
      "source": [
        "X_tr_TFIDFW2V = hstack((ss_train_neg,ss_train_pos,ss_train_neu,ss_train_comp,School_State_train_class_0,School_State_train_class_1,teacher_prefix_train_class_0,teacher_prefix_train_class_1,project_grade_category_train_class_0,project_grade_category_train_class_1,clean_categories_train_class_0,clean_categories_train_class_1,clean_subcategories_category_train_class_0,clean_subcategories_category_train_class_1,X_train_price_norm,X_train_previous_project_count,X_train_essay_TFIDF,X_train_title_TFIDF_w2v)).tocsr()\n",
        "X_te_TFIDFW2V = hstack((ss_test_neg,ss_test_pos,ss_test_neu,ss_test_comp,School_State_test_class_0,School_State_test_class_1,teacher_prefix_test_class_0,teacher_prefix_test_class_1,project_grade_category_test_class_0,project_grade_category_test_class_1,clean_categories_test_class_0,clean_categories_test_class_1,clean_subcategories_category_test_class_0,clean_subcategories_category_test_class_1,X_test_price_norm,X_test_previous_project_count,X_test_essay_TFIDF,X_test_title_TFIDF_w2v)).tocsr()"
      ],
      "execution_count": 51,
      "outputs": []
    },
    {
      "cell_type": "markdown",
      "metadata": {
        "id": "I5wDFj17sc3-"
      },
      "source": [
        "<h2>1.5 Appling Models on different kind of featurization as mentioned in the instructions</h2>"
      ]
    },
    {
      "cell_type": "markdown",
      "metadata": {
        "id": "O5tWox1jsc3_"
      },
      "source": [
        "<br>Apply GBDT on different kind of featurization as mentioned in the instructions\n",
        "<br> For Every model that you work on make sure you do the step 2 and step 3 of instrucations"
      ]
    },
    {
      "cell_type": "markdown",
      "metadata": {
        "id": "3F3v9t-iEPUu"
      },
      "source": [
        "Finding Hyperparameter for SET-1(TFIDF Vectorised) using RandomSearchCV.\n"
      ]
    },
    {
      "cell_type": "code",
      "metadata": {
        "id": "ARWulYUwsc4B"
      },
      "source": [
        "def batch_predict(clf, data):\n",
        "    # roc_auc_score(y_true, y_score) the 2nd parameter should be probability estimates of the positive class\n",
        "    # not the predicted outputs\n",
        "\n",
        "    y_data_pred = []\n",
        "    tr_loop = data.shape[0] - data.shape[0]%1000\n",
        "    # consider you X_tr shape is 49041, then your tr_loop will be 49041 - 49041%1000 = 49000\n",
        "    # in this for loop we will iterate unti the last 1000 multiplier\n",
        "    for i in range(0, tr_loop, 1000):\n",
        "        y_data_pred.extend(clf.predict_proba(data[i:i+1000])[:,1])\n",
        "    # we will be predicting for the last data points\n",
        "    if data.shape[0]%1000 !=0:\n",
        "        y_data_pred.extend(clf.predict_proba(data[tr_loop:])[:,1])\n",
        "    \n",
        "    return y_data_pred"
      ],
      "execution_count": 52,
      "outputs": []
    },
    {
      "cell_type": "code",
      "metadata": {
        "id": "aWvMvPJyghox"
      },
      "source": [
        "import xgboost as xgb"
      ],
      "execution_count": 54,
      "outputs": []
    },
    {
      "cell_type": "code",
      "metadata": {
        "colab": {
          "base_uri": "https://localhost:8080/"
        },
        "id": "gJYyJ3uuESuU",
        "outputId": "18747d4d-f8ef-43dd-a76b-e2fac968638d"
      },
      "source": [
        "import math\n",
        "from scipy.stats import randint as sp_randint\n",
        "from sklearn.model_selection import RandomizedSearchCV\n",
        "from sklearn.ensemble import GradientBoostingClassifier\n",
        "xgb_model = xgb.XGBClassifier(objective=\"binary:logistic\", random_state=42)\n",
        "parameters = {'max_depth':([1,3,5]),\"n_estimators\":([10, 50,100])}\n",
        "clf = RandomizedSearchCV(xgb_model, parameters, cv=10, scoring='roc_auc',return_train_score=True)\n",
        "clf.fit(X_tr_TFIDF, y_train)\n",
        "\n",
        "results = pd.DataFrame.from_dict(clf.cv_results_)\n",
        "print(results)\n",
        "# results.head()"
      ],
      "execution_count": 82,
      "outputs": [
        {
          "output_type": "stream",
          "text": [
            "   mean_fit_time  std_fit_time  ...  mean_train_score  std_train_score\n",
            "0       6.283212      0.037257  ...          0.605907         0.003839\n",
            "1      18.117856      0.122807  ...          0.654491         0.000952\n",
            "2      32.915885      0.113978  ...          0.677769         0.001001\n",
            "3      12.072112      0.043048  ...          0.655620         0.002595\n",
            "4      46.471827      0.183210  ...          0.726561         0.001364\n",
            "5      88.613202      0.257640  ...          0.767756         0.000758\n",
            "6      18.273074      0.044593  ...          0.705202         0.001793\n",
            "7      76.087251      0.197640  ...          0.806276         0.001177\n",
            "8     147.034932      0.209018  ...          0.860287         0.001169\n",
            "\n",
            "[9 rows x 32 columns]\n"
          ],
          "name": "stdout"
        }
      ]
    },
    {
      "cell_type": "code",
      "metadata": {
        "id": "X1hak8i1QvWa"
      },
      "source": [
        "train_auc= results['mean_train_score']\n",
        "cv_auc = results['mean_test_score'] \n",
        "max_depth=results[\"param_max_depth\"]\n",
        "n_estimators=results[\"param_n_estimators\"]"
      ],
      "execution_count": 83,
      "outputs": []
    },
    {
      "cell_type": "code",
      "metadata": {
        "id": "EokY3_sTQz20"
      },
      "source": [
        "result_pivot=results.pivot(index=\"param_max_depth\",columns=\"param_n_estimators\",values=\"mean_train_score\")"
      ],
      "execution_count": 84,
      "outputs": []
    },
    {
      "cell_type": "code",
      "metadata": {
        "id": "uYmPEVLZQ2db",
        "colab": {
          "base_uri": "https://localhost:8080/",
          "height": 297
        },
        "outputId": "e120904d-f3bd-4a9a-94ce-ccae9529c983"
      },
      "source": [
        "sns.heatmap(result_pivot,annot=True)"
      ],
      "execution_count": 85,
      "outputs": [
        {
          "output_type": "execute_result",
          "data": {
            "text/plain": [
              "<matplotlib.axes._subplots.AxesSubplot at 0x7f61633469d0>"
            ]
          },
          "metadata": {
            "tags": []
          },
          "execution_count": 85
        },
        {
          "output_type": "display_data",
          "data": {
            "image/png": "[encoded data removed]",
            "text/plain": [
              "<Figure size 432x288 with 2 Axes>"
            ]
          },
          "metadata": {
            "tags": [],
            "needs_background": "light"
          }
        }
      ]
    },
    {
      "cell_type": "code",
      "metadata": {
        "id": "jAqgOuSaQ8ua",
        "colab": {
          "base_uri": "https://localhost:8080/"
        },
        "outputId": "38bac927-cc4c-4948-9645-470db3cf031a"
      },
      "source": [
        "clf.best_params_"
      ],
      "execution_count": 86,
      "outputs": [
        {
          "output_type": "execute_result",
          "data": {
            "text/plain": [
              "{'max_depth': 5, 'n_estimators': 100}"
            ]
          },
          "metadata": {
            "tags": []
          },
          "execution_count": 86
        }
      ]
    },
    {
      "cell_type": "code",
      "metadata": {
        "colab": {
          "base_uri": "https://localhost:8080/",
          "height": 295
        },
        "id": "NXXQSyXxuQA9",
        "outputId": "6196a2b9-e5bb-4c22-9070-42e6ef846195"
      },
      "source": [
        "from sklearn.metrics import roc_curve, auc\n",
        "DT_TFIDF = xgb.XGBClassifier(max_depth=5,n_estimators=100)\n",
        "DT_TFIDF.fit(X_tr_TFIDF, y_train)\n",
        "y_train_pred=batch_predict(DT_TFIDF, X_tr_TFIDF)\n",
        "y_test_pred=batch_predict(DT_TFIDF, X_te_TFIDF)\n",
        "train_fpr, train_tpr, tr_thresholds = roc_curve(y_train, batch_predict(DT_TFIDF, X_tr_TFIDF))\n",
        "test_fpr, test_tpr, te_thresholds = roc_curve(y_test, batch_predict(DT_TFIDF, X_te_TFIDF))\n",
        "\n",
        "plt.plot(train_fpr, train_tpr, label=\"train AUC =\"+str(auc(train_fpr, train_tpr)))\n",
        "plt.plot(test_fpr, test_tpr, label=\"test AUC =\"+str(auc(test_fpr, test_tpr)))\n",
        "\n",
        "plt.legend()\n",
        "plt.xlabel(\"FPR Values\")\n",
        "plt.ylabel(\"TPR Values\")\n",
        "plt.title(\"ERROR PLOTS\")\n",
        "plt.grid()\n",
        "plt.show()"
      ],
      "execution_count": 87,
      "outputs": [
        {
          "output_type": "display_data",
          "data": {
            "image/png": "[encoded data removed]",
            "text/plain": [
              "<Figure size 432x288 with 1 Axes>"
            ]
          },
          "metadata": {
            "tags": [],
            "needs_background": "light"
          }
        }
      ]
    },
    {
      "cell_type": "code",
      "metadata": {
        "id": "q8dUheB0vHNB"
      },
      "source": [
        "# we are writing our own function for predict, with defined thresould\n",
        "# we will pick a threshold that will give the least fpr\n",
        "def find_best_threshold(threshould, fpr, tpr):\n",
        "    t = threshould[np.argmax(tpr*(1-fpr))]\n",
        "    # (tpr*(1-fpr)) will be maximum if your fpr is very low and tpr is very high\n",
        "    print(\"the maximum value of tpr*(1-fpr)\", max(tpr*(1-fpr)), \"for threshold\", np.round(t,3))\n",
        "    return t\n",
        "\n",
        "def predict_with_best_t(proba, threshould):\n",
        "    predictions = []\n",
        "    for i in proba:\n",
        "        if i>=threshould:\n",
        "            predictions.append(1)\n",
        "        else:\n",
        "            predictions.append(0)\n",
        "    return predictions"
      ],
      "execution_count": 88,
      "outputs": []
    },
    {
      "cell_type": "code",
      "metadata": {
        "id": "u9tcavnvxCqa"
      },
      "source": [
        "def heatmap_cm(cm):\n",
        "  ax= plt.subplot();\n",
        "  sns.heatmap(cm, annot=True,cmap='Blues',ax=ax,fmt=\"d\");\n",
        "  # labels, title and ticks\n",
        "  ax.set_xlabel('Predicted labels');ax.set_ylabel('True labels'); \n",
        "  ax.set_ylim(2.0, 0)\n",
        "  ax.set_title('Confusion Matrix');\n",
        "  ax.xaxis.set_ticklabels(['Fake','Real']); \n",
        "  ax.yaxis.set_ticklabels(['Fake','Real']);"
      ],
      "execution_count": 89,
      "outputs": []
    },
    {
      "cell_type": "code",
      "metadata": {
        "colab": {
          "base_uri": "https://localhost:8080/",
          "height": 295
        },
        "id": "JNonZIMyxF9X",
        "outputId": "49d2b61d-da70-42e3-9be4-aa647ebbb8e2"
      },
      "source": [
        "heatmap_cm(confusion_matrix(y_test, predict_with_best_t(y_test_pred, best_t)))"
      ],
      "execution_count": 90,
      "outputs": [
        {
          "output_type": "display_data",
          "data": {
            "image/png": "[encoded data removed]",
            "text/plain": [
              "<Figure size 432x288 with 2 Axes>"
            ]
          },
          "metadata": {
            "tags": [],
            "needs_background": "light"
          }
        }
      ]
    },
    {
      "cell_type": "markdown",
      "metadata": {
        "id": "px7TWoBGxpBz"
      },
      "source": [
        "Finding Hyperparameter for SET-2(TFIDFW2V Vectorised) using RandomSearchCV."
      ]
    },
    {
      "cell_type": "code",
      "metadata": {
        "colab": {
          "base_uri": "https://localhost:8080/"
        },
        "id": "KW1hHpQ8xraq",
        "outputId": "1fbf0215-0d3b-4c13-862d-17d21d3699d9"
      },
      "source": [
        "parameters = {'max_depth':([1,3,5]),\"n_estimators\":([10, 50,100])}\n",
        "clf = RandomizedSearchCV(xgb_model, parameters, cv=10, scoring='roc_auc',return_train_score=True)\n",
        "clf.fit(X_tr_TFIDFW2V, y_train)\n",
        "\n",
        "results = pd.DataFrame.from_dict(clf.cv_results_)\n",
        "print(results)"
      ],
      "execution_count": 91,
      "outputs": [
        {
          "output_type": "stream",
          "text": [
            "   mean_fit_time  std_fit_time  ...  mean_train_score  std_train_score\n",
            "0      11.645354      0.237207  ...          0.605907         0.003839\n",
            "1      30.469639      0.163166  ...          0.654491         0.000952\n",
            "2      54.258697      0.344910  ...          0.677769         0.001001\n",
            "3      20.798232      0.086057  ...          0.655793         0.002584\n",
            "4      75.480398      0.243177  ...          0.726648         0.001202\n",
            "5     143.830810      1.870726  ...          0.768194         0.001067\n",
            "6      30.495720      0.063420  ...          0.704990         0.002000\n",
            "7     122.288527      0.332323  ...          0.807265         0.001845\n",
            "8     236.148390      1.652308  ...          0.861877         0.001440\n",
            "\n",
            "[9 rows x 32 columns]\n"
          ],
          "name": "stdout"
        }
      ]
    },
    {
      "cell_type": "code",
      "metadata": {
        "id": "zJG5c6esx8jN"
      },
      "source": [
        "train_auc= results['mean_train_score']\n",
        "cv_auc = results['mean_test_score'] \n",
        "max_depth=results[\"param_max_depth\"]\n",
        "n_estimators=results[\"param_n_estimators\"]"
      ],
      "execution_count": 92,
      "outputs": []
    },
    {
      "cell_type": "code",
      "metadata": {
        "id": "QeAiFQ7Ox9Jv"
      },
      "source": [
        "result_pivot=results.pivot(index=\"param_max_depth\",columns=\"param_n_estimators\",values=\"mean_train_score\")"
      ],
      "execution_count": 93,
      "outputs": []
    },
    {
      "cell_type": "code",
      "metadata": {
        "colab": {
          "base_uri": "https://localhost:8080/",
          "height": 297
        },
        "id": "Pd_AZ8wUyAFh",
        "outputId": "ea1cc973-b843-4a18-f762-ddf6a8728358"
      },
      "source": [
        "sns.heatmap(result_pivot,annot=True)"
      ],
      "execution_count": 94,
      "outputs": [
        {
          "output_type": "execute_result",
          "data": {
            "text/plain": [
              "<matplotlib.axes._subplots.AxesSubplot at 0x7f616304b710>"
            ]
          },
          "metadata": {
            "tags": []
          },
          "execution_count": 94
        },
        {
          "output_type": "display_data",
          "data": {
            "image/png": "[encoded data removed]",
            "text/plain": [
              "<Figure size 432x288 with 2 Axes>"
            ]
          },
          "metadata": {
            "tags": [],
            "needs_background": "light"
          }
        }
      ]
    },
    {
      "cell_type": "code",
      "metadata": {
        "colab": {
          "base_uri": "https://localhost:8080/"
        },
        "id": "OGkoGOY4yFLb",
        "outputId": "87c7b483-457b-493e-a4ea-72578143c3a1"
      },
      "source": [
        "clf.best_params_"
      ],
      "execution_count": 95,
      "outputs": [
        {
          "output_type": "execute_result",
          "data": {
            "text/plain": [
              "{'max_depth': 5, 'n_estimators': 100}"
            ]
          },
          "metadata": {
            "tags": []
          },
          "execution_count": 95
        }
      ]
    },
    {
      "cell_type": "code",
      "metadata": {
        "colab": {
          "base_uri": "https://localhost:8080/"
        },
        "id": "V4qqijM7yJED",
        "outputId": "ebb883b5-6c7e-4fa1-e073-054a61a032e8"
      },
      "source": [
        "DT_TFIDF_W2V = xgb.XGBClassifier(max_depth=5,n_estimators=100)\n",
        "DT_TFIDF_W2V.fit(X_tr_TFIDFW2V, y_train)\n"
      ],
      "execution_count": 96,
      "outputs": [
        {
          "output_type": "execute_result",
          "data": {
            "text/plain": [
              "XGBClassifier(base_score=0.5, booster='gbtree', colsample_bylevel=1,\n",
              "              colsample_bynode=1, colsample_bytree=1, gamma=0,\n",
              "              learning_rate=0.1, max_delta_step=0, max_depth=5,\n",
              "              min_child_weight=1, missing=None, n_estimators=100, n_jobs=1,\n",
              "              nthread=None, objective='binary:logistic', random_state=0,\n",
              "              reg_alpha=0, reg_lambda=1, scale_pos_weight=1, seed=None,\n",
              "              silent=None, subsample=1, verbosity=1)"
            ]
          },
          "metadata": {
            "tags": []
          },
          "execution_count": 96
        }
      ]
    },
    {
      "cell_type": "code",
      "metadata": {
        "colab": {
          "base_uri": "https://localhost:8080/",
          "height": 295
        },
        "id": "gxtnhiS7-ZfA",
        "outputId": "1f871023-384a-41fc-d70d-1c089bd2bdac"
      },
      "source": [
        "y_train_pred=batch_predict(DT_TFIDF_W2V, X_tr_TFIDFW2V)\n",
        "y_test_pred=batch_predict(DT_TFIDF_W2V, X_te_TFIDFW2V)\n",
        "train_fpr, train_tpr, tr_thresholds = roc_curve(y_train, batch_predict(DT_TFIDF_W2V, X_tr_TFIDFW2V))\n",
        "test_fpr, test_tpr, te_thresholds = roc_curve(y_test, batch_predict(DT_TFIDF_W2V, X_te_TFIDFW2V))\n",
        "\n",
        "plt.plot(train_fpr, train_tpr, label=\"train AUC =\"+str(auc(train_fpr, train_tpr)))\n",
        "plt.plot(test_fpr, test_tpr, label=\"test AUC =\"+str(auc(test_fpr, test_tpr)))\n",
        "\n",
        "plt.legend()\n",
        "plt.xlabel(\"FPR Values\")\n",
        "plt.ylabel(\"TPR Values\")\n",
        "plt.title(\"ERROR PLOTS\")\n",
        "plt.grid()\n",
        "plt.show()"
      ],
      "execution_count": 97,
      "outputs": [
        {
          "output_type": "display_data",
          "data": {
            "image/png": "[encoded data removed]",
            "text/plain": [
              "<Figure size 432x288 with 1 Axes>"
            ]
          },
          "metadata": {
            "tags": [],
            "needs_background": "light"
          }
        }
      ]
    },
    {
      "cell_type": "code",
      "metadata": {
        "colab": {
          "base_uri": "https://localhost:8080/",
          "height": 295
        },
        "id": "BPzYReGayfnL",
        "outputId": "87928f74-685e-4a6c-f362-faf035bd0df8"
      },
      "source": [
        "heatmap_cm(confusion_matrix(y_test, predict_with_best_t(y_test_pred, best_t)))"
      ],
      "execution_count": 98,
      "outputs": [
        {
          "output_type": "display_data",
          "data": {
            "image/png": "[encoded data removed]",
            "text/plain": [
              "<Figure size 432x288 with 2 Axes>"
            ]
          },
          "metadata": {
            "tags": [],
            "needs_background": "light"
          }
        }
      ]
    },
    {
      "cell_type": "markdown",
      "metadata": {
        "id": "YhFN-lDWsc4G"
      },
      "source": [
        "<h1>3. Summary</h1>\n",
        "\n",
        "<br> "
      ]
    },
    {
      "cell_type": "code",
      "metadata": {
        "colab": {
          "base_uri": "https://localhost:8080/"
        },
        "id": "_OP-71wm-vz_",
        "outputId": "0fd4e0b3-29af-4e46-ba1b-0d9416c69edf"
      },
      "source": [
        "pip install tabulate"
      ],
      "execution_count": 99,
      "outputs": [
        {
          "output_type": "stream",
          "text": [
            "Requirement already satisfied: tabulate in /usr/local/lib/python3.7/dist-packages (0.8.9)\n"
          ],
          "name": "stdout"
        }
      ]
    },
    {
      "cell_type": "code",
      "metadata": {
        "id": "zI-URLL5-xyH"
      },
      "source": [
        "from tabulate import tabulate"
      ],
      "execution_count": 100,
      "outputs": []
    },
    {
      "cell_type": "code",
      "metadata": {
        "id": "eWpUaT-G-34z"
      },
      "source": [
        "table = [['Vectorizer', 'Hyper parameter:max_depth','Hyper parameter:n_estimators',\"AUC\"], ['TFIDF', 5,100,0.804 ], ['TFIDFw2v',5,100, 0.806]]"
      ],
      "execution_count": 101,
      "outputs": []
    },
    {
      "cell_type": "code",
      "metadata": {
        "colab": {
          "base_uri": "https://localhost:8080/"
        },
        "id": "QeRsiDiU_T4h",
        "outputId": "b38dd0eb-3f08-4d5a-9f91-8bd7441efbfb"
      },
      "source": [
        "print(tabulate(table, headers='firstrow', tablefmt='grid'))"
      ],
      "execution_count": 102,
      "outputs": [
        {
          "output_type": "stream",
          "text": [
            "+--------------+-----------------------------+--------------------------------+-------+\n",
            "| Vectorizer   |   Hyper parameter:max_depth |   Hyper parameter:n_estimators |   AUC |\n",
            "+==============+=============================+================================+=======+\n",
            "| TFIDF        |                           5 |                            100 | 0.804 |\n",
            "+--------------+-----------------------------+--------------------------------+-------+\n",
            "| TFIDFw2v     |                           5 |                            100 | 0.806 |\n",
            "+--------------+-----------------------------+--------------------------------+-------+\n"
          ],
          "name": "stdout"
        }
      ]
    },
    {
      "cell_type": "code",
      "metadata": {
        "id": "7I2wV0rw_Vm1"
      },
      "source": [
        ""
      ],
      "execution_count": null,
      "outputs": []
    }
  ]
}